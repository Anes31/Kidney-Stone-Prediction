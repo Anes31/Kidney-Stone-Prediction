{
 "cells": [
  {
   "cell_type": "code",
   "execution_count": 27,
   "id": "9f79ee22-62b6-4946-b058-403697023d5e",
   "metadata": {},
   "outputs": [],
   "source": [
    "import pandas as pd\n",
    "import numpy as np\n",
    "from sklearn.model_selection import cross_val_score, KFold\n",
    "from sklearn.ensemble import RandomForestClassifier, ExtraTreesClassifier, GradientBoostingClassifier, VotingClassifier\n",
    "from sklearn.linear_model import LogisticRegression\n",
    "from sklearn.discriminant_analysis import LinearDiscriminantAnalysis\n",
    "\n",
    "from pycaret.classification import setup, evaluate_model, compare_models, plot_model\n",
    "import optuna"
   ]
  },
  {
   "cell_type": "markdown",
   "id": "2ddafe68-2268-4756-9d38-7807bc50dc86",
   "metadata": {},
   "source": [
    "# Load Data"
   ]
  },
  {
   "cell_type": "code",
   "execution_count": 2,
   "id": "a85a2c67-5a5e-4506-bf83-404a9e7138f7",
   "metadata": {},
   "outputs": [],
   "source": [
    "train = pd.read_csv('train.csv', index_col='id')\n",
    "test = pd.read_csv('test.csv', index_col='id')"
   ]
  },
  {
   "cell_type": "code",
   "execution_count": 3,
   "id": "fd9d69ea-b189-4e5d-9f2d-86d5a6154c0f",
   "metadata": {},
   "outputs": [
    {
     "data": {
      "text/plain": [
       "(414, 7)"
      ]
     },
     "execution_count": 3,
     "metadata": {},
     "output_type": "execute_result"
    }
   ],
   "source": [
    "train.shape"
   ]
  },
  {
   "cell_type": "code",
   "execution_count": 4,
   "id": "e095c955-92bd-4f7d-9aad-2f8b75d4bfe6",
   "metadata": {},
   "outputs": [
    {
     "data": {
      "text/html": [
       "<div>\n",
       "<style scoped>\n",
       "    .dataframe tbody tr th:only-of-type {\n",
       "        vertical-align: middle;\n",
       "    }\n",
       "\n",
       "    .dataframe tbody tr th {\n",
       "        vertical-align: top;\n",
       "    }\n",
       "\n",
       "    .dataframe thead th {\n",
       "        text-align: right;\n",
       "    }\n",
       "</style>\n",
       "<table border=\"1\" class=\"dataframe\">\n",
       "  <thead>\n",
       "    <tr style=\"text-align: right;\">\n",
       "      <th></th>\n",
       "      <th>gravity</th>\n",
       "      <th>ph</th>\n",
       "      <th>osmo</th>\n",
       "      <th>cond</th>\n",
       "      <th>urea</th>\n",
       "      <th>calc</th>\n",
       "      <th>target</th>\n",
       "    </tr>\n",
       "    <tr>\n",
       "      <th>id</th>\n",
       "      <th></th>\n",
       "      <th></th>\n",
       "      <th></th>\n",
       "      <th></th>\n",
       "      <th></th>\n",
       "      <th></th>\n",
       "      <th></th>\n",
       "    </tr>\n",
       "  </thead>\n",
       "  <tbody>\n",
       "    <tr>\n",
       "      <th>0</th>\n",
       "      <td>1.013</td>\n",
       "      <td>6.19</td>\n",
       "      <td>443</td>\n",
       "      <td>14.8</td>\n",
       "      <td>124</td>\n",
       "      <td>1.45</td>\n",
       "      <td>0</td>\n",
       "    </tr>\n",
       "    <tr>\n",
       "      <th>1</th>\n",
       "      <td>1.025</td>\n",
       "      <td>5.40</td>\n",
       "      <td>703</td>\n",
       "      <td>23.6</td>\n",
       "      <td>394</td>\n",
       "      <td>4.18</td>\n",
       "      <td>0</td>\n",
       "    </tr>\n",
       "    <tr>\n",
       "      <th>2</th>\n",
       "      <td>1.009</td>\n",
       "      <td>6.13</td>\n",
       "      <td>371</td>\n",
       "      <td>24.5</td>\n",
       "      <td>159</td>\n",
       "      <td>9.04</td>\n",
       "      <td>0</td>\n",
       "    </tr>\n",
       "    <tr>\n",
       "      <th>3</th>\n",
       "      <td>1.021</td>\n",
       "      <td>4.91</td>\n",
       "      <td>442</td>\n",
       "      <td>20.8</td>\n",
       "      <td>398</td>\n",
       "      <td>6.63</td>\n",
       "      <td>1</td>\n",
       "    </tr>\n",
       "    <tr>\n",
       "      <th>4</th>\n",
       "      <td>1.021</td>\n",
       "      <td>5.53</td>\n",
       "      <td>874</td>\n",
       "      <td>17.8</td>\n",
       "      <td>385</td>\n",
       "      <td>2.21</td>\n",
       "      <td>1</td>\n",
       "    </tr>\n",
       "  </tbody>\n",
       "</table>\n",
       "</div>"
      ],
      "text/plain": [
       "    gravity    ph  osmo  cond  urea  calc  target\n",
       "id                                               \n",
       "0     1.013  6.19   443  14.8   124  1.45       0\n",
       "1     1.025  5.40   703  23.6   394  4.18       0\n",
       "2     1.009  6.13   371  24.5   159  9.04       0\n",
       "3     1.021  4.91   442  20.8   398  6.63       1\n",
       "4     1.021  5.53   874  17.8   385  2.21       1"
      ]
     },
     "execution_count": 4,
     "metadata": {},
     "output_type": "execute_result"
    }
   ],
   "source": [
    "train.head()"
   ]
  },
  {
   "cell_type": "code",
   "execution_count": 5,
   "id": "2391b1c9-cb96-48ec-9b6e-58ea99f1409e",
   "metadata": {},
   "outputs": [
    {
     "data": {
      "text/plain": [
       "0    230\n",
       "1    184\n",
       "Name: target, dtype: int64"
      ]
     },
     "execution_count": 5,
     "metadata": {},
     "output_type": "execute_result"
    }
   ],
   "source": [
    "train.target.value_counts()"
   ]
  },
  {
   "cell_type": "code",
   "execution_count": 6,
   "id": "7f595b5a-1044-40fd-82ba-27de2bb7fede",
   "metadata": {},
   "outputs": [],
   "source": [
    "X = train.drop(['gravity', 'ph', 'osmo', 'urea', 'target'], axis=1).copy()\n",
    "y = train.target"
   ]
  },
  {
   "cell_type": "markdown",
   "id": "8c994c9c-1b27-4db0-958f-65428a273517",
   "metadata": {},
   "source": [
    "# Base Model"
   ]
  },
  {
   "cell_type": "code",
   "execution_count": 7,
   "id": "86cbb545-fa54-4024-a3d5-2abdcb2e6937",
   "metadata": {},
   "outputs": [
    {
     "name": "stdout",
     "output_type": "stream",
     "text": [
      "ROC score: 0.72\n"
     ]
    }
   ],
   "source": [
    "rf = RandomForestClassifier(random_state=0)\n",
    "\n",
    "results = []\n",
    "\n",
    "kf = KFold(n_splits=10, shuffle=True, random_state=0)\n",
    "\n",
    "r = cross_val_score(rf, X, y, scoring='roc_auc')\n",
    "\n",
    "results.append(r)\n",
    "\n",
    "print(f'ROC score: {np.mean(results).round(2)}')"
   ]
  },
  {
   "cell_type": "markdown",
   "id": "9d700cd3-714d-4c6f-9323-5a3e02d17dd3",
   "metadata": {},
   "source": [
    "# Model Selection"
   ]
  },
  {
   "cell_type": "code",
   "execution_count": 8,
   "id": "2d3ae23e-89d7-432d-a102-e0833e8f74db",
   "metadata": {
    "collapsed": true,
    "jupyter": {
     "outputs_hidden": true
    },
    "tags": []
   },
   "outputs": [
    {
     "data": {
      "text/html": [
       "<style type=\"text/css\">\n",
       "#T_716cd_row44_col1 {\n",
       "  background-color: lightgreen;\n",
       "}\n",
       "</style>\n",
       "<table id=\"T_716cd_\">\n",
       "  <thead>\n",
       "    <tr>\n",
       "      <th class=\"blank level0\" >&nbsp;</th>\n",
       "      <th class=\"col_heading level0 col0\" >Description</th>\n",
       "      <th class=\"col_heading level0 col1\" >Value</th>\n",
       "    </tr>\n",
       "  </thead>\n",
       "  <tbody>\n",
       "    <tr>\n",
       "      <th id=\"T_716cd_level0_row0\" class=\"row_heading level0 row0\" >0</th>\n",
       "      <td id=\"T_716cd_row0_col0\" class=\"data row0 col0\" >session_id</td>\n",
       "      <td id=\"T_716cd_row0_col1\" class=\"data row0 col1\" >4973</td>\n",
       "    </tr>\n",
       "    <tr>\n",
       "      <th id=\"T_716cd_level0_row1\" class=\"row_heading level0 row1\" >1</th>\n",
       "      <td id=\"T_716cd_row1_col0\" class=\"data row1 col0\" >Target</td>\n",
       "      <td id=\"T_716cd_row1_col1\" class=\"data row1 col1\" >target</td>\n",
       "    </tr>\n",
       "    <tr>\n",
       "      <th id=\"T_716cd_level0_row2\" class=\"row_heading level0 row2\" >2</th>\n",
       "      <td id=\"T_716cd_row2_col0\" class=\"data row2 col0\" >Target Type</td>\n",
       "      <td id=\"T_716cd_row2_col1\" class=\"data row2 col1\" >Binary</td>\n",
       "    </tr>\n",
       "    <tr>\n",
       "      <th id=\"T_716cd_level0_row3\" class=\"row_heading level0 row3\" >3</th>\n",
       "      <td id=\"T_716cd_row3_col0\" class=\"data row3 col0\" >Label Encoded</td>\n",
       "      <td id=\"T_716cd_row3_col1\" class=\"data row3 col1\" >None</td>\n",
       "    </tr>\n",
       "    <tr>\n",
       "      <th id=\"T_716cd_level0_row4\" class=\"row_heading level0 row4\" >4</th>\n",
       "      <td id=\"T_716cd_row4_col0\" class=\"data row4 col0\" >Original Data</td>\n",
       "      <td id=\"T_716cd_row4_col1\" class=\"data row4 col1\" >(414, 7)</td>\n",
       "    </tr>\n",
       "    <tr>\n",
       "      <th id=\"T_716cd_level0_row5\" class=\"row_heading level0 row5\" >5</th>\n",
       "      <td id=\"T_716cd_row5_col0\" class=\"data row5 col0\" >Missing Values</td>\n",
       "      <td id=\"T_716cd_row5_col1\" class=\"data row5 col1\" >False</td>\n",
       "    </tr>\n",
       "    <tr>\n",
       "      <th id=\"T_716cd_level0_row6\" class=\"row_heading level0 row6\" >6</th>\n",
       "      <td id=\"T_716cd_row6_col0\" class=\"data row6 col0\" >Numeric Features</td>\n",
       "      <td id=\"T_716cd_row6_col1\" class=\"data row6 col1\" >6</td>\n",
       "    </tr>\n",
       "    <tr>\n",
       "      <th id=\"T_716cd_level0_row7\" class=\"row_heading level0 row7\" >7</th>\n",
       "      <td id=\"T_716cd_row7_col0\" class=\"data row7 col0\" >Categorical Features</td>\n",
       "      <td id=\"T_716cd_row7_col1\" class=\"data row7 col1\" >0</td>\n",
       "    </tr>\n",
       "    <tr>\n",
       "      <th id=\"T_716cd_level0_row8\" class=\"row_heading level0 row8\" >8</th>\n",
       "      <td id=\"T_716cd_row8_col0\" class=\"data row8 col0\" >Ordinal Features</td>\n",
       "      <td id=\"T_716cd_row8_col1\" class=\"data row8 col1\" >False</td>\n",
       "    </tr>\n",
       "    <tr>\n",
       "      <th id=\"T_716cd_level0_row9\" class=\"row_heading level0 row9\" >9</th>\n",
       "      <td id=\"T_716cd_row9_col0\" class=\"data row9 col0\" >High Cardinality Features</td>\n",
       "      <td id=\"T_716cd_row9_col1\" class=\"data row9 col1\" >False</td>\n",
       "    </tr>\n",
       "    <tr>\n",
       "      <th id=\"T_716cd_level0_row10\" class=\"row_heading level0 row10\" >10</th>\n",
       "      <td id=\"T_716cd_row10_col0\" class=\"data row10 col0\" >High Cardinality Method</td>\n",
       "      <td id=\"T_716cd_row10_col1\" class=\"data row10 col1\" >None</td>\n",
       "    </tr>\n",
       "    <tr>\n",
       "      <th id=\"T_716cd_level0_row11\" class=\"row_heading level0 row11\" >11</th>\n",
       "      <td id=\"T_716cd_row11_col0\" class=\"data row11 col0\" >Transformed Train Set</td>\n",
       "      <td id=\"T_716cd_row11_col1\" class=\"data row11 col1\" >(289, 6)</td>\n",
       "    </tr>\n",
       "    <tr>\n",
       "      <th id=\"T_716cd_level0_row12\" class=\"row_heading level0 row12\" >12</th>\n",
       "      <td id=\"T_716cd_row12_col0\" class=\"data row12 col0\" >Transformed Test Set</td>\n",
       "      <td id=\"T_716cd_row12_col1\" class=\"data row12 col1\" >(125, 6)</td>\n",
       "    </tr>\n",
       "    <tr>\n",
       "      <th id=\"T_716cd_level0_row13\" class=\"row_heading level0 row13\" >13</th>\n",
       "      <td id=\"T_716cd_row13_col0\" class=\"data row13 col0\" >Shuffle Train-Test</td>\n",
       "      <td id=\"T_716cd_row13_col1\" class=\"data row13 col1\" >True</td>\n",
       "    </tr>\n",
       "    <tr>\n",
       "      <th id=\"T_716cd_level0_row14\" class=\"row_heading level0 row14\" >14</th>\n",
       "      <td id=\"T_716cd_row14_col0\" class=\"data row14 col0\" >Stratify Train-Test</td>\n",
       "      <td id=\"T_716cd_row14_col1\" class=\"data row14 col1\" >False</td>\n",
       "    </tr>\n",
       "    <tr>\n",
       "      <th id=\"T_716cd_level0_row15\" class=\"row_heading level0 row15\" >15</th>\n",
       "      <td id=\"T_716cd_row15_col0\" class=\"data row15 col0\" >Fold Generator</td>\n",
       "      <td id=\"T_716cd_row15_col1\" class=\"data row15 col1\" >StratifiedKFold</td>\n",
       "    </tr>\n",
       "    <tr>\n",
       "      <th id=\"T_716cd_level0_row16\" class=\"row_heading level0 row16\" >16</th>\n",
       "      <td id=\"T_716cd_row16_col0\" class=\"data row16 col0\" >Fold Number</td>\n",
       "      <td id=\"T_716cd_row16_col1\" class=\"data row16 col1\" >10</td>\n",
       "    </tr>\n",
       "    <tr>\n",
       "      <th id=\"T_716cd_level0_row17\" class=\"row_heading level0 row17\" >17</th>\n",
       "      <td id=\"T_716cd_row17_col0\" class=\"data row17 col0\" >CPU Jobs</td>\n",
       "      <td id=\"T_716cd_row17_col1\" class=\"data row17 col1\" >-1</td>\n",
       "    </tr>\n",
       "    <tr>\n",
       "      <th id=\"T_716cd_level0_row18\" class=\"row_heading level0 row18\" >18</th>\n",
       "      <td id=\"T_716cd_row18_col0\" class=\"data row18 col0\" >Use GPU</td>\n",
       "      <td id=\"T_716cd_row18_col1\" class=\"data row18 col1\" >False</td>\n",
       "    </tr>\n",
       "    <tr>\n",
       "      <th id=\"T_716cd_level0_row19\" class=\"row_heading level0 row19\" >19</th>\n",
       "      <td id=\"T_716cd_row19_col0\" class=\"data row19 col0\" >Log Experiment</td>\n",
       "      <td id=\"T_716cd_row19_col1\" class=\"data row19 col1\" >False</td>\n",
       "    </tr>\n",
       "    <tr>\n",
       "      <th id=\"T_716cd_level0_row20\" class=\"row_heading level0 row20\" >20</th>\n",
       "      <td id=\"T_716cd_row20_col0\" class=\"data row20 col0\" >Experiment Name</td>\n",
       "      <td id=\"T_716cd_row20_col1\" class=\"data row20 col1\" >clf-default-name</td>\n",
       "    </tr>\n",
       "    <tr>\n",
       "      <th id=\"T_716cd_level0_row21\" class=\"row_heading level0 row21\" >21</th>\n",
       "      <td id=\"T_716cd_row21_col0\" class=\"data row21 col0\" >USI</td>\n",
       "      <td id=\"T_716cd_row21_col1\" class=\"data row21 col1\" >2f99</td>\n",
       "    </tr>\n",
       "    <tr>\n",
       "      <th id=\"T_716cd_level0_row22\" class=\"row_heading level0 row22\" >22</th>\n",
       "      <td id=\"T_716cd_row22_col0\" class=\"data row22 col0\" >Imputation Type</td>\n",
       "      <td id=\"T_716cd_row22_col1\" class=\"data row22 col1\" >simple</td>\n",
       "    </tr>\n",
       "    <tr>\n",
       "      <th id=\"T_716cd_level0_row23\" class=\"row_heading level0 row23\" >23</th>\n",
       "      <td id=\"T_716cd_row23_col0\" class=\"data row23 col0\" >Iterative Imputation Iteration</td>\n",
       "      <td id=\"T_716cd_row23_col1\" class=\"data row23 col1\" >None</td>\n",
       "    </tr>\n",
       "    <tr>\n",
       "      <th id=\"T_716cd_level0_row24\" class=\"row_heading level0 row24\" >24</th>\n",
       "      <td id=\"T_716cd_row24_col0\" class=\"data row24 col0\" >Numeric Imputer</td>\n",
       "      <td id=\"T_716cd_row24_col1\" class=\"data row24 col1\" >mean</td>\n",
       "    </tr>\n",
       "    <tr>\n",
       "      <th id=\"T_716cd_level0_row25\" class=\"row_heading level0 row25\" >25</th>\n",
       "      <td id=\"T_716cd_row25_col0\" class=\"data row25 col0\" >Iterative Imputation Numeric Model</td>\n",
       "      <td id=\"T_716cd_row25_col1\" class=\"data row25 col1\" >None</td>\n",
       "    </tr>\n",
       "    <tr>\n",
       "      <th id=\"T_716cd_level0_row26\" class=\"row_heading level0 row26\" >26</th>\n",
       "      <td id=\"T_716cd_row26_col0\" class=\"data row26 col0\" >Categorical Imputer</td>\n",
       "      <td id=\"T_716cd_row26_col1\" class=\"data row26 col1\" >constant</td>\n",
       "    </tr>\n",
       "    <tr>\n",
       "      <th id=\"T_716cd_level0_row27\" class=\"row_heading level0 row27\" >27</th>\n",
       "      <td id=\"T_716cd_row27_col0\" class=\"data row27 col0\" >Iterative Imputation Categorical Model</td>\n",
       "      <td id=\"T_716cd_row27_col1\" class=\"data row27 col1\" >None</td>\n",
       "    </tr>\n",
       "    <tr>\n",
       "      <th id=\"T_716cd_level0_row28\" class=\"row_heading level0 row28\" >28</th>\n",
       "      <td id=\"T_716cd_row28_col0\" class=\"data row28 col0\" >Unknown Categoricals Handling</td>\n",
       "      <td id=\"T_716cd_row28_col1\" class=\"data row28 col1\" >least_frequent</td>\n",
       "    </tr>\n",
       "    <tr>\n",
       "      <th id=\"T_716cd_level0_row29\" class=\"row_heading level0 row29\" >29</th>\n",
       "      <td id=\"T_716cd_row29_col0\" class=\"data row29 col0\" >Normalize</td>\n",
       "      <td id=\"T_716cd_row29_col1\" class=\"data row29 col1\" >False</td>\n",
       "    </tr>\n",
       "    <tr>\n",
       "      <th id=\"T_716cd_level0_row30\" class=\"row_heading level0 row30\" >30</th>\n",
       "      <td id=\"T_716cd_row30_col0\" class=\"data row30 col0\" >Normalize Method</td>\n",
       "      <td id=\"T_716cd_row30_col1\" class=\"data row30 col1\" >None</td>\n",
       "    </tr>\n",
       "    <tr>\n",
       "      <th id=\"T_716cd_level0_row31\" class=\"row_heading level0 row31\" >31</th>\n",
       "      <td id=\"T_716cd_row31_col0\" class=\"data row31 col0\" >Transformation</td>\n",
       "      <td id=\"T_716cd_row31_col1\" class=\"data row31 col1\" >False</td>\n",
       "    </tr>\n",
       "    <tr>\n",
       "      <th id=\"T_716cd_level0_row32\" class=\"row_heading level0 row32\" >32</th>\n",
       "      <td id=\"T_716cd_row32_col0\" class=\"data row32 col0\" >Transformation Method</td>\n",
       "      <td id=\"T_716cd_row32_col1\" class=\"data row32 col1\" >None</td>\n",
       "    </tr>\n",
       "    <tr>\n",
       "      <th id=\"T_716cd_level0_row33\" class=\"row_heading level0 row33\" >33</th>\n",
       "      <td id=\"T_716cd_row33_col0\" class=\"data row33 col0\" >PCA</td>\n",
       "      <td id=\"T_716cd_row33_col1\" class=\"data row33 col1\" >False</td>\n",
       "    </tr>\n",
       "    <tr>\n",
       "      <th id=\"T_716cd_level0_row34\" class=\"row_heading level0 row34\" >34</th>\n",
       "      <td id=\"T_716cd_row34_col0\" class=\"data row34 col0\" >PCA Method</td>\n",
       "      <td id=\"T_716cd_row34_col1\" class=\"data row34 col1\" >None</td>\n",
       "    </tr>\n",
       "    <tr>\n",
       "      <th id=\"T_716cd_level0_row35\" class=\"row_heading level0 row35\" >35</th>\n",
       "      <td id=\"T_716cd_row35_col0\" class=\"data row35 col0\" >PCA Components</td>\n",
       "      <td id=\"T_716cd_row35_col1\" class=\"data row35 col1\" >None</td>\n",
       "    </tr>\n",
       "    <tr>\n",
       "      <th id=\"T_716cd_level0_row36\" class=\"row_heading level0 row36\" >36</th>\n",
       "      <td id=\"T_716cd_row36_col0\" class=\"data row36 col0\" >Ignore Low Variance</td>\n",
       "      <td id=\"T_716cd_row36_col1\" class=\"data row36 col1\" >False</td>\n",
       "    </tr>\n",
       "    <tr>\n",
       "      <th id=\"T_716cd_level0_row37\" class=\"row_heading level0 row37\" >37</th>\n",
       "      <td id=\"T_716cd_row37_col0\" class=\"data row37 col0\" >Combine Rare Levels</td>\n",
       "      <td id=\"T_716cd_row37_col1\" class=\"data row37 col1\" >False</td>\n",
       "    </tr>\n",
       "    <tr>\n",
       "      <th id=\"T_716cd_level0_row38\" class=\"row_heading level0 row38\" >38</th>\n",
       "      <td id=\"T_716cd_row38_col0\" class=\"data row38 col0\" >Rare Level Threshold</td>\n",
       "      <td id=\"T_716cd_row38_col1\" class=\"data row38 col1\" >None</td>\n",
       "    </tr>\n",
       "    <tr>\n",
       "      <th id=\"T_716cd_level0_row39\" class=\"row_heading level0 row39\" >39</th>\n",
       "      <td id=\"T_716cd_row39_col0\" class=\"data row39 col0\" >Numeric Binning</td>\n",
       "      <td id=\"T_716cd_row39_col1\" class=\"data row39 col1\" >False</td>\n",
       "    </tr>\n",
       "    <tr>\n",
       "      <th id=\"T_716cd_level0_row40\" class=\"row_heading level0 row40\" >40</th>\n",
       "      <td id=\"T_716cd_row40_col0\" class=\"data row40 col0\" >Remove Outliers</td>\n",
       "      <td id=\"T_716cd_row40_col1\" class=\"data row40 col1\" >False</td>\n",
       "    </tr>\n",
       "    <tr>\n",
       "      <th id=\"T_716cd_level0_row41\" class=\"row_heading level0 row41\" >41</th>\n",
       "      <td id=\"T_716cd_row41_col0\" class=\"data row41 col0\" >Outliers Threshold</td>\n",
       "      <td id=\"T_716cd_row41_col1\" class=\"data row41 col1\" >None</td>\n",
       "    </tr>\n",
       "    <tr>\n",
       "      <th id=\"T_716cd_level0_row42\" class=\"row_heading level0 row42\" >42</th>\n",
       "      <td id=\"T_716cd_row42_col0\" class=\"data row42 col0\" >Remove Multicollinearity</td>\n",
       "      <td id=\"T_716cd_row42_col1\" class=\"data row42 col1\" >False</td>\n",
       "    </tr>\n",
       "    <tr>\n",
       "      <th id=\"T_716cd_level0_row43\" class=\"row_heading level0 row43\" >43</th>\n",
       "      <td id=\"T_716cd_row43_col0\" class=\"data row43 col0\" >Multicollinearity Threshold</td>\n",
       "      <td id=\"T_716cd_row43_col1\" class=\"data row43 col1\" >None</td>\n",
       "    </tr>\n",
       "    <tr>\n",
       "      <th id=\"T_716cd_level0_row44\" class=\"row_heading level0 row44\" >44</th>\n",
       "      <td id=\"T_716cd_row44_col0\" class=\"data row44 col0\" >Remove Perfect Collinearity</td>\n",
       "      <td id=\"T_716cd_row44_col1\" class=\"data row44 col1\" >True</td>\n",
       "    </tr>\n",
       "    <tr>\n",
       "      <th id=\"T_716cd_level0_row45\" class=\"row_heading level0 row45\" >45</th>\n",
       "      <td id=\"T_716cd_row45_col0\" class=\"data row45 col0\" >Clustering</td>\n",
       "      <td id=\"T_716cd_row45_col1\" class=\"data row45 col1\" >False</td>\n",
       "    </tr>\n",
       "    <tr>\n",
       "      <th id=\"T_716cd_level0_row46\" class=\"row_heading level0 row46\" >46</th>\n",
       "      <td id=\"T_716cd_row46_col0\" class=\"data row46 col0\" >Clustering Iteration</td>\n",
       "      <td id=\"T_716cd_row46_col1\" class=\"data row46 col1\" >None</td>\n",
       "    </tr>\n",
       "    <tr>\n",
       "      <th id=\"T_716cd_level0_row47\" class=\"row_heading level0 row47\" >47</th>\n",
       "      <td id=\"T_716cd_row47_col0\" class=\"data row47 col0\" >Polynomial Features</td>\n",
       "      <td id=\"T_716cd_row47_col1\" class=\"data row47 col1\" >False</td>\n",
       "    </tr>\n",
       "    <tr>\n",
       "      <th id=\"T_716cd_level0_row48\" class=\"row_heading level0 row48\" >48</th>\n",
       "      <td id=\"T_716cd_row48_col0\" class=\"data row48 col0\" >Polynomial Degree</td>\n",
       "      <td id=\"T_716cd_row48_col1\" class=\"data row48 col1\" >None</td>\n",
       "    </tr>\n",
       "    <tr>\n",
       "      <th id=\"T_716cd_level0_row49\" class=\"row_heading level0 row49\" >49</th>\n",
       "      <td id=\"T_716cd_row49_col0\" class=\"data row49 col0\" >Trignometry Features</td>\n",
       "      <td id=\"T_716cd_row49_col1\" class=\"data row49 col1\" >False</td>\n",
       "    </tr>\n",
       "    <tr>\n",
       "      <th id=\"T_716cd_level0_row50\" class=\"row_heading level0 row50\" >50</th>\n",
       "      <td id=\"T_716cd_row50_col0\" class=\"data row50 col0\" >Polynomial Threshold</td>\n",
       "      <td id=\"T_716cd_row50_col1\" class=\"data row50 col1\" >None</td>\n",
       "    </tr>\n",
       "    <tr>\n",
       "      <th id=\"T_716cd_level0_row51\" class=\"row_heading level0 row51\" >51</th>\n",
       "      <td id=\"T_716cd_row51_col0\" class=\"data row51 col0\" >Group Features</td>\n",
       "      <td id=\"T_716cd_row51_col1\" class=\"data row51 col1\" >False</td>\n",
       "    </tr>\n",
       "    <tr>\n",
       "      <th id=\"T_716cd_level0_row52\" class=\"row_heading level0 row52\" >52</th>\n",
       "      <td id=\"T_716cd_row52_col0\" class=\"data row52 col0\" >Feature Selection</td>\n",
       "      <td id=\"T_716cd_row52_col1\" class=\"data row52 col1\" >False</td>\n",
       "    </tr>\n",
       "    <tr>\n",
       "      <th id=\"T_716cd_level0_row53\" class=\"row_heading level0 row53\" >53</th>\n",
       "      <td id=\"T_716cd_row53_col0\" class=\"data row53 col0\" >Feature Selection Method</td>\n",
       "      <td id=\"T_716cd_row53_col1\" class=\"data row53 col1\" >classic</td>\n",
       "    </tr>\n",
       "    <tr>\n",
       "      <th id=\"T_716cd_level0_row54\" class=\"row_heading level0 row54\" >54</th>\n",
       "      <td id=\"T_716cd_row54_col0\" class=\"data row54 col0\" >Features Selection Threshold</td>\n",
       "      <td id=\"T_716cd_row54_col1\" class=\"data row54 col1\" >None</td>\n",
       "    </tr>\n",
       "    <tr>\n",
       "      <th id=\"T_716cd_level0_row55\" class=\"row_heading level0 row55\" >55</th>\n",
       "      <td id=\"T_716cd_row55_col0\" class=\"data row55 col0\" >Feature Interaction</td>\n",
       "      <td id=\"T_716cd_row55_col1\" class=\"data row55 col1\" >False</td>\n",
       "    </tr>\n",
       "    <tr>\n",
       "      <th id=\"T_716cd_level0_row56\" class=\"row_heading level0 row56\" >56</th>\n",
       "      <td id=\"T_716cd_row56_col0\" class=\"data row56 col0\" >Feature Ratio</td>\n",
       "      <td id=\"T_716cd_row56_col1\" class=\"data row56 col1\" >False</td>\n",
       "    </tr>\n",
       "    <tr>\n",
       "      <th id=\"T_716cd_level0_row57\" class=\"row_heading level0 row57\" >57</th>\n",
       "      <td id=\"T_716cd_row57_col0\" class=\"data row57 col0\" >Interaction Threshold</td>\n",
       "      <td id=\"T_716cd_row57_col1\" class=\"data row57 col1\" >None</td>\n",
       "    </tr>\n",
       "    <tr>\n",
       "      <th id=\"T_716cd_level0_row58\" class=\"row_heading level0 row58\" >58</th>\n",
       "      <td id=\"T_716cd_row58_col0\" class=\"data row58 col0\" >Fix Imbalance</td>\n",
       "      <td id=\"T_716cd_row58_col1\" class=\"data row58 col1\" >False</td>\n",
       "    </tr>\n",
       "    <tr>\n",
       "      <th id=\"T_716cd_level0_row59\" class=\"row_heading level0 row59\" >59</th>\n",
       "      <td id=\"T_716cd_row59_col0\" class=\"data row59 col0\" >Fix Imbalance Method</td>\n",
       "      <td id=\"T_716cd_row59_col1\" class=\"data row59 col1\" >SMOTE</td>\n",
       "    </tr>\n",
       "  </tbody>\n",
       "</table>\n"
      ],
      "text/plain": [
       "<pandas.io.formats.style.Styler at 0x2667286bf48>"
      ]
     },
     "metadata": {},
     "output_type": "display_data"
    }
   ],
   "source": [
    "_ = setup(data=train, target='target')"
   ]
  },
  {
   "cell_type": "code",
   "execution_count": 9,
   "id": "e097b1f6-5b41-452d-b2b9-4fb0f1c7e0c0",
   "metadata": {},
   "outputs": [
    {
     "data": {
      "text/html": [
       "<style type=\"text/css\">\n",
       "#T_8bdb2_ th {\n",
       "  text-align: left;\n",
       "}\n",
       "#T_8bdb2_row0_col0, #T_8bdb2_row0_col1, #T_8bdb2_row0_col3, #T_8bdb2_row0_col4, #T_8bdb2_row0_col5, #T_8bdb2_row0_col6, #T_8bdb2_row0_col7, #T_8bdb2_row1_col0, #T_8bdb2_row1_col1, #T_8bdb2_row1_col2, #T_8bdb2_row1_col3, #T_8bdb2_row1_col4, #T_8bdb2_row1_col5, #T_8bdb2_row1_col6, #T_8bdb2_row1_col7, #T_8bdb2_row2_col0, #T_8bdb2_row2_col2, #T_8bdb2_row2_col3, #T_8bdb2_row3_col0, #T_8bdb2_row3_col1, #T_8bdb2_row3_col2, #T_8bdb2_row3_col3, #T_8bdb2_row3_col4, #T_8bdb2_row3_col5, #T_8bdb2_row3_col6, #T_8bdb2_row3_col7, #T_8bdb2_row4_col0, #T_8bdb2_row4_col1, #T_8bdb2_row4_col2, #T_8bdb2_row4_col3, #T_8bdb2_row4_col4, #T_8bdb2_row4_col5, #T_8bdb2_row4_col6, #T_8bdb2_row4_col7, #T_8bdb2_row5_col0, #T_8bdb2_row5_col1, #T_8bdb2_row5_col2, #T_8bdb2_row5_col3, #T_8bdb2_row5_col4, #T_8bdb2_row5_col5, #T_8bdb2_row5_col6, #T_8bdb2_row5_col7, #T_8bdb2_row6_col0, #T_8bdb2_row6_col1, #T_8bdb2_row6_col2, #T_8bdb2_row6_col3, #T_8bdb2_row6_col4, #T_8bdb2_row6_col5, #T_8bdb2_row6_col6, #T_8bdb2_row6_col7, #T_8bdb2_row7_col0, #T_8bdb2_row7_col1, #T_8bdb2_row7_col2, #T_8bdb2_row7_col4, #T_8bdb2_row7_col5, #T_8bdb2_row7_col6, #T_8bdb2_row7_col7, #T_8bdb2_row8_col0, #T_8bdb2_row8_col1, #T_8bdb2_row8_col2, #T_8bdb2_row8_col3, #T_8bdb2_row8_col4, #T_8bdb2_row8_col5, #T_8bdb2_row8_col6, #T_8bdb2_row8_col7, #T_8bdb2_row9_col0, #T_8bdb2_row9_col1, #T_8bdb2_row9_col2, #T_8bdb2_row9_col3, #T_8bdb2_row9_col4, #T_8bdb2_row9_col5, #T_8bdb2_row9_col6, #T_8bdb2_row9_col7, #T_8bdb2_row10_col0, #T_8bdb2_row10_col1, #T_8bdb2_row10_col2, #T_8bdb2_row10_col3, #T_8bdb2_row10_col4, #T_8bdb2_row10_col5, #T_8bdb2_row10_col6, #T_8bdb2_row10_col7, #T_8bdb2_row11_col0, #T_8bdb2_row11_col1, #T_8bdb2_row11_col2, #T_8bdb2_row11_col3, #T_8bdb2_row11_col4, #T_8bdb2_row11_col5, #T_8bdb2_row11_col6, #T_8bdb2_row11_col7, #T_8bdb2_row12_col0, #T_8bdb2_row12_col1, #T_8bdb2_row12_col2, #T_8bdb2_row12_col3, #T_8bdb2_row12_col4, #T_8bdb2_row12_col5, #T_8bdb2_row12_col6, #T_8bdb2_row12_col7, #T_8bdb2_row13_col0, #T_8bdb2_row13_col1, #T_8bdb2_row13_col2, #T_8bdb2_row13_col3, #T_8bdb2_row13_col4, #T_8bdb2_row13_col5, #T_8bdb2_row13_col6, #T_8bdb2_row13_col7 {\n",
       "  text-align: left;\n",
       "}\n",
       "#T_8bdb2_row0_col2, #T_8bdb2_row2_col1, #T_8bdb2_row2_col4, #T_8bdb2_row2_col5, #T_8bdb2_row2_col6, #T_8bdb2_row2_col7, #T_8bdb2_row7_col3 {\n",
       "  text-align: left;\n",
       "  background-color: yellow;\n",
       "}\n",
       "#T_8bdb2_row0_col8, #T_8bdb2_row2_col8, #T_8bdb2_row3_col8, #T_8bdb2_row4_col8, #T_8bdb2_row5_col8, #T_8bdb2_row7_col8, #T_8bdb2_row8_col8, #T_8bdb2_row10_col8, #T_8bdb2_row12_col8, #T_8bdb2_row13_col8 {\n",
       "  text-align: left;\n",
       "  background-color: lightgrey;\n",
       "}\n",
       "#T_8bdb2_row1_col8, #T_8bdb2_row6_col8, #T_8bdb2_row9_col8, #T_8bdb2_row11_col8 {\n",
       "  text-align: left;\n",
       "  background-color: yellow;\n",
       "  background-color: lightgrey;\n",
       "}\n",
       "</style>\n",
       "<table id=\"T_8bdb2_\">\n",
       "  <thead>\n",
       "    <tr>\n",
       "      <th class=\"blank level0\" >&nbsp;</th>\n",
       "      <th class=\"col_heading level0 col0\" >Model</th>\n",
       "      <th class=\"col_heading level0 col1\" >Accuracy</th>\n",
       "      <th class=\"col_heading level0 col2\" >AUC</th>\n",
       "      <th class=\"col_heading level0 col3\" >Recall</th>\n",
       "      <th class=\"col_heading level0 col4\" >Prec.</th>\n",
       "      <th class=\"col_heading level0 col5\" >F1</th>\n",
       "      <th class=\"col_heading level0 col6\" >Kappa</th>\n",
       "      <th class=\"col_heading level0 col7\" >MCC</th>\n",
       "      <th class=\"col_heading level0 col8\" >TT (Sec)</th>\n",
       "    </tr>\n",
       "  </thead>\n",
       "  <tbody>\n",
       "    <tr>\n",
       "      <th id=\"T_8bdb2_level0_row0\" class=\"row_heading level0 row0\" >rf</th>\n",
       "      <td id=\"T_8bdb2_row0_col0\" class=\"data row0 col0\" >Random Forest Classifier</td>\n",
       "      <td id=\"T_8bdb2_row0_col1\" class=\"data row0 col1\" >0.7443</td>\n",
       "      <td id=\"T_8bdb2_row0_col2\" class=\"data row0 col2\" >0.8016</td>\n",
       "      <td id=\"T_8bdb2_row0_col3\" class=\"data row0 col3\" >0.6468</td>\n",
       "      <td id=\"T_8bdb2_row0_col4\" class=\"data row0 col4\" >0.7462</td>\n",
       "      <td id=\"T_8bdb2_row0_col5\" class=\"data row0 col5\" >0.6859</td>\n",
       "      <td id=\"T_8bdb2_row0_col6\" class=\"data row0 col6\" >0.4738</td>\n",
       "      <td id=\"T_8bdb2_row0_col7\" class=\"data row0 col7\" >0.4825</td>\n",
       "      <td id=\"T_8bdb2_row0_col8\" class=\"data row0 col8\" >0.1630</td>\n",
       "    </tr>\n",
       "    <tr>\n",
       "      <th id=\"T_8bdb2_level0_row1\" class=\"row_heading level0 row1\" >lda</th>\n",
       "      <td id=\"T_8bdb2_row1_col0\" class=\"data row1 col0\" >Linear Discriminant Analysis</td>\n",
       "      <td id=\"T_8bdb2_row1_col1\" class=\"data row1 col1\" >0.7446</td>\n",
       "      <td id=\"T_8bdb2_row1_col2\" class=\"data row1 col2\" >0.7982</td>\n",
       "      <td id=\"T_8bdb2_row1_col3\" class=\"data row1 col3\" >0.5846</td>\n",
       "      <td id=\"T_8bdb2_row1_col4\" class=\"data row1 col4\" >0.7873</td>\n",
       "      <td id=\"T_8bdb2_row1_col5\" class=\"data row1 col5\" >0.6659</td>\n",
       "      <td id=\"T_8bdb2_row1_col6\" class=\"data row1 col6\" >0.4674</td>\n",
       "      <td id=\"T_8bdb2_row1_col7\" class=\"data row1 col7\" >0.4845</td>\n",
       "      <td id=\"T_8bdb2_row1_col8\" class=\"data row1 col8\" >0.0030</td>\n",
       "    </tr>\n",
       "    <tr>\n",
       "      <th id=\"T_8bdb2_level0_row2\" class=\"row_heading level0 row2\" >lr</th>\n",
       "      <td id=\"T_8bdb2_row2_col0\" class=\"data row2 col0\" >Logistic Regression</td>\n",
       "      <td id=\"T_8bdb2_row2_col1\" class=\"data row2 col1\" >0.7584</td>\n",
       "      <td id=\"T_8bdb2_row2_col2\" class=\"data row2 col2\" >0.7939</td>\n",
       "      <td id=\"T_8bdb2_row2_col3\" class=\"data row2 col3\" >0.6077</td>\n",
       "      <td id=\"T_8bdb2_row2_col4\" class=\"data row2 col4\" >0.8081</td>\n",
       "      <td id=\"T_8bdb2_row2_col5\" class=\"data row2 col5\" >0.6887</td>\n",
       "      <td id=\"T_8bdb2_row2_col6\" class=\"data row2 col6\" >0.4975</td>\n",
       "      <td id=\"T_8bdb2_row2_col7\" class=\"data row2 col7\" >0.5152</td>\n",
       "      <td id=\"T_8bdb2_row2_col8\" class=\"data row2 col8\" >0.4200</td>\n",
       "    </tr>\n",
       "    <tr>\n",
       "      <th id=\"T_8bdb2_level0_row3\" class=\"row_heading level0 row3\" >gbc</th>\n",
       "      <td id=\"T_8bdb2_row3_col0\" class=\"data row3 col0\" >Gradient Boosting Classifier</td>\n",
       "      <td id=\"T_8bdb2_row3_col1\" class=\"data row3 col1\" >0.7272</td>\n",
       "      <td id=\"T_8bdb2_row3_col2\" class=\"data row3 col2\" >0.7800</td>\n",
       "      <td id=\"T_8bdb2_row3_col3\" class=\"data row3 col3\" >0.6487</td>\n",
       "      <td id=\"T_8bdb2_row3_col4\" class=\"data row3 col4\" >0.7295</td>\n",
       "      <td id=\"T_8bdb2_row3_col5\" class=\"data row3 col5\" >0.6704</td>\n",
       "      <td id=\"T_8bdb2_row3_col6\" class=\"data row3 col6\" >0.4429</td>\n",
       "      <td id=\"T_8bdb2_row3_col7\" class=\"data row3 col7\" >0.4569</td>\n",
       "      <td id=\"T_8bdb2_row3_col8\" class=\"data row3 col8\" >0.0130</td>\n",
       "    </tr>\n",
       "    <tr>\n",
       "      <th id=\"T_8bdb2_level0_row4\" class=\"row_heading level0 row4\" >et</th>\n",
       "      <td id=\"T_8bdb2_row4_col0\" class=\"data row4 col0\" >Extra Trees Classifier</td>\n",
       "      <td id=\"T_8bdb2_row4_col1\" class=\"data row4 col1\" >0.7372</td>\n",
       "      <td id=\"T_8bdb2_row4_col2\" class=\"data row4 col2\" >0.7785</td>\n",
       "      <td id=\"T_8bdb2_row4_col3\" class=\"data row4 col3\" >0.6314</td>\n",
       "      <td id=\"T_8bdb2_row4_col4\" class=\"data row4 col4\" >0.7401</td>\n",
       "      <td id=\"T_8bdb2_row4_col5\" class=\"data row4 col5\" >0.6727</td>\n",
       "      <td id=\"T_8bdb2_row4_col6\" class=\"data row4 col6\" >0.4583</td>\n",
       "      <td id=\"T_8bdb2_row4_col7\" class=\"data row4 col7\" >0.4690</td>\n",
       "      <td id=\"T_8bdb2_row4_col8\" class=\"data row4 col8\" >0.1690</td>\n",
       "    </tr>\n",
       "    <tr>\n",
       "      <th id=\"T_8bdb2_level0_row5\" class=\"row_heading level0 row5\" >qda</th>\n",
       "      <td id=\"T_8bdb2_row5_col0\" class=\"data row5 col0\" >Quadratic Discriminant Analysis</td>\n",
       "      <td id=\"T_8bdb2_row5_col1\" class=\"data row5 col1\" >0.7307</td>\n",
       "      <td id=\"T_8bdb2_row5_col2\" class=\"data row5 col2\" >0.7762</td>\n",
       "      <td id=\"T_8bdb2_row5_col3\" class=\"data row5 col3\" >0.5699</td>\n",
       "      <td id=\"T_8bdb2_row5_col4\" class=\"data row5 col4\" >0.7863</td>\n",
       "      <td id=\"T_8bdb2_row5_col5\" class=\"data row5 col5\" >0.6499</td>\n",
       "      <td id=\"T_8bdb2_row5_col6\" class=\"data row5 col6\" >0.4401</td>\n",
       "      <td id=\"T_8bdb2_row5_col7\" class=\"data row5 col7\" >0.4628</td>\n",
       "      <td id=\"T_8bdb2_row5_col8\" class=\"data row5 col8\" >0.0050</td>\n",
       "    </tr>\n",
       "    <tr>\n",
       "      <th id=\"T_8bdb2_level0_row6\" class=\"row_heading level0 row6\" >nb</th>\n",
       "      <td id=\"T_8bdb2_row6_col0\" class=\"data row6 col0\" >Naive Bayes</td>\n",
       "      <td id=\"T_8bdb2_row6_col1\" class=\"data row6 col1\" >0.6787</td>\n",
       "      <td id=\"T_8bdb2_row6_col2\" class=\"data row6 col2\" >0.7631</td>\n",
       "      <td id=\"T_8bdb2_row6_col3\" class=\"data row6 col3\" >0.6558</td>\n",
       "      <td id=\"T_8bdb2_row6_col4\" class=\"data row6 col4\" >0.6400</td>\n",
       "      <td id=\"T_8bdb2_row6_col5\" class=\"data row6 col5\" >0.6405</td>\n",
       "      <td id=\"T_8bdb2_row6_col6\" class=\"data row6 col6\" >0.3525</td>\n",
       "      <td id=\"T_8bdb2_row6_col7\" class=\"data row6 col7\" >0.3595</td>\n",
       "      <td id=\"T_8bdb2_row6_col8\" class=\"data row6 col8\" >0.0030</td>\n",
       "    </tr>\n",
       "    <tr>\n",
       "      <th id=\"T_8bdb2_level0_row7\" class=\"row_heading level0 row7\" >lightgbm</th>\n",
       "      <td id=\"T_8bdb2_row7_col0\" class=\"data row7 col0\" >Light Gradient Boosting Machine</td>\n",
       "      <td id=\"T_8bdb2_row7_col1\" class=\"data row7 col1\" >0.7132</td>\n",
       "      <td id=\"T_8bdb2_row7_col2\" class=\"data row7 col2\" >0.7590</td>\n",
       "      <td id=\"T_8bdb2_row7_col3\" class=\"data row7 col3\" >0.6724</td>\n",
       "      <td id=\"T_8bdb2_row7_col4\" class=\"data row7 col4\" >0.6955</td>\n",
       "      <td id=\"T_8bdb2_row7_col5\" class=\"data row7 col5\" >0.6736</td>\n",
       "      <td id=\"T_8bdb2_row7_col6\" class=\"data row7 col6\" >0.4196</td>\n",
       "      <td id=\"T_8bdb2_row7_col7\" class=\"data row7 col7\" >0.4298</td>\n",
       "      <td id=\"T_8bdb2_row7_col8\" class=\"data row7 col8\" >0.0400</td>\n",
       "    </tr>\n",
       "    <tr>\n",
       "      <th id=\"T_8bdb2_level0_row8\" class=\"row_heading level0 row8\" >ada</th>\n",
       "      <td id=\"T_8bdb2_row8_col0\" class=\"data row8 col0\" >Ada Boost Classifier</td>\n",
       "      <td id=\"T_8bdb2_row8_col1\" class=\"data row8 col1\" >0.6720</td>\n",
       "      <td id=\"T_8bdb2_row8_col2\" class=\"data row8 col2\" >0.7084</td>\n",
       "      <td id=\"T_8bdb2_row8_col3\" class=\"data row8 col3\" >0.6250</td>\n",
       "      <td id=\"T_8bdb2_row8_col4\" class=\"data row8 col4\" >0.6530</td>\n",
       "      <td id=\"T_8bdb2_row8_col5\" class=\"data row8 col5\" >0.6281</td>\n",
       "      <td id=\"T_8bdb2_row8_col6\" class=\"data row8 col6\" >0.3382</td>\n",
       "      <td id=\"T_8bdb2_row8_col7\" class=\"data row8 col7\" >0.3460</td>\n",
       "      <td id=\"T_8bdb2_row8_col8\" class=\"data row8 col8\" >0.0150</td>\n",
       "    </tr>\n",
       "    <tr>\n",
       "      <th id=\"T_8bdb2_level0_row9\" class=\"row_heading level0 row9\" >dt</th>\n",
       "      <td id=\"T_8bdb2_row9_col0\" class=\"data row9 col0\" >Decision Tree Classifier</td>\n",
       "      <td id=\"T_8bdb2_row9_col1\" class=\"data row9 col1\" >0.6819</td>\n",
       "      <td id=\"T_8bdb2_row9_col2\" class=\"data row9 col2\" >0.6793</td>\n",
       "      <td id=\"T_8bdb2_row9_col3\" class=\"data row9 col3\" >0.6538</td>\n",
       "      <td id=\"T_8bdb2_row9_col4\" class=\"data row9 col4\" >0.6334</td>\n",
       "      <td id=\"T_8bdb2_row9_col5\" class=\"data row9 col5\" >0.6376</td>\n",
       "      <td id=\"T_8bdb2_row9_col6\" class=\"data row9 col6\" >0.3559</td>\n",
       "      <td id=\"T_8bdb2_row9_col7\" class=\"data row9 col7\" >0.3612</td>\n",
       "      <td id=\"T_8bdb2_row9_col8\" class=\"data row9 col8\" >0.0030</td>\n",
       "    </tr>\n",
       "    <tr>\n",
       "      <th id=\"T_8bdb2_level0_row10\" class=\"row_heading level0 row10\" >knn</th>\n",
       "      <td id=\"T_8bdb2_row10_col0\" class=\"data row10 col0\" >K Neighbors Classifier</td>\n",
       "      <td id=\"T_8bdb2_row10_col1\" class=\"data row10 col1\" >0.5986</td>\n",
       "      <td id=\"T_8bdb2_row10_col2\" class=\"data row10 col2\" >0.6191</td>\n",
       "      <td id=\"T_8bdb2_row10_col3\" class=\"data row10 col3\" >0.5115</td>\n",
       "      <td id=\"T_8bdb2_row10_col4\" class=\"data row10 col4\" >0.5513</td>\n",
       "      <td id=\"T_8bdb2_row10_col5\" class=\"data row10 col5\" >0.5213</td>\n",
       "      <td id=\"T_8bdb2_row10_col6\" class=\"data row10 col6\" >0.1776</td>\n",
       "      <td id=\"T_8bdb2_row10_col7\" class=\"data row10 col7\" >0.1830</td>\n",
       "      <td id=\"T_8bdb2_row10_col8\" class=\"data row10 col8\" >0.0500</td>\n",
       "    </tr>\n",
       "    <tr>\n",
       "      <th id=\"T_8bdb2_level0_row11\" class=\"row_heading level0 row11\" >dummy</th>\n",
       "      <td id=\"T_8bdb2_row11_col0\" class=\"data row11 col0\" >Dummy Classifier</td>\n",
       "      <td id=\"T_8bdb2_row11_col1\" class=\"data row11 col1\" >0.5606</td>\n",
       "      <td id=\"T_8bdb2_row11_col2\" class=\"data row11 col2\" >0.5000</td>\n",
       "      <td id=\"T_8bdb2_row11_col3\" class=\"data row11 col3\" >0.0000</td>\n",
       "      <td id=\"T_8bdb2_row11_col4\" class=\"data row11 col4\" >0.0000</td>\n",
       "      <td id=\"T_8bdb2_row11_col5\" class=\"data row11 col5\" >0.0000</td>\n",
       "      <td id=\"T_8bdb2_row11_col6\" class=\"data row11 col6\" >0.0000</td>\n",
       "      <td id=\"T_8bdb2_row11_col7\" class=\"data row11 col7\" >0.0000</td>\n",
       "      <td id=\"T_8bdb2_row11_col8\" class=\"data row11 col8\" >0.0030</td>\n",
       "    </tr>\n",
       "    <tr>\n",
       "      <th id=\"T_8bdb2_level0_row12\" class=\"row_heading level0 row12\" >svm</th>\n",
       "      <td id=\"T_8bdb2_row12_col0\" class=\"data row12 col0\" >SVM - Linear Kernel</td>\n",
       "      <td id=\"T_8bdb2_row12_col1\" class=\"data row12 col1\" >0.5366</td>\n",
       "      <td id=\"T_8bdb2_row12_col2\" class=\"data row12 col2\" >0.0000</td>\n",
       "      <td id=\"T_8bdb2_row12_col3\" class=\"data row12 col3\" >0.5301</td>\n",
       "      <td id=\"T_8bdb2_row12_col4\" class=\"data row12 col4\" >0.3279</td>\n",
       "      <td id=\"T_8bdb2_row12_col5\" class=\"data row12 col5\" >0.3722</td>\n",
       "      <td id=\"T_8bdb2_row12_col6\" class=\"data row12 col6\" >0.0740</td>\n",
       "      <td id=\"T_8bdb2_row12_col7\" class=\"data row12 col7\" >0.0872</td>\n",
       "      <td id=\"T_8bdb2_row12_col8\" class=\"data row12 col8\" >0.0040</td>\n",
       "    </tr>\n",
       "    <tr>\n",
       "      <th id=\"T_8bdb2_level0_row13\" class=\"row_heading level0 row13\" >ridge</th>\n",
       "      <td id=\"T_8bdb2_row13_col0\" class=\"data row13 col0\" >Ridge Classifier</td>\n",
       "      <td id=\"T_8bdb2_row13_col1\" class=\"data row13 col1\" >0.7480</td>\n",
       "      <td id=\"T_8bdb2_row13_col2\" class=\"data row13 col2\" >0.0000</td>\n",
       "      <td id=\"T_8bdb2_row13_col3\" class=\"data row13 col3\" >0.5846</td>\n",
       "      <td id=\"T_8bdb2_row13_col4\" class=\"data row13 col4\" >0.8048</td>\n",
       "      <td id=\"T_8bdb2_row13_col5\" class=\"data row13 col5\" >0.6702</td>\n",
       "      <td id=\"T_8bdb2_row13_col6\" class=\"data row13 col6\" >0.4748</td>\n",
       "      <td id=\"T_8bdb2_row13_col7\" class=\"data row13 col7\" >0.4960</td>\n",
       "      <td id=\"T_8bdb2_row13_col8\" class=\"data row13 col8\" >0.0050</td>\n",
       "    </tr>\n",
       "  </tbody>\n",
       "</table>\n"
      ],
      "text/plain": [
       "<pandas.io.formats.style.Styler at 0x26673576308>"
      ]
     },
     "metadata": {},
     "output_type": "display_data"
    }
   ],
   "source": [
    "best = compare_models(sort='AUC')"
   ]
  },
  {
   "cell_type": "code",
   "execution_count": 10,
   "id": "f42bf336-ed44-47bc-b06c-ca8638bfbbd5",
   "metadata": {},
   "outputs": [
    {
     "data": {
      "image/png": "[encoded data removed]",
      "text/plain": [
       "<Figure size 800x550 with 1 Axes>"
      ]
     },
     "metadata": {},
     "output_type": "display_data"
    }
   ],
   "source": [
    "plot_model(best, plot='auc')"
   ]
  },
  {
   "cell_type": "code",
   "execution_count": 11,
   "id": "f6742658-5f4f-4ff5-9b2a-cada2160f4bc",
   "metadata": {},
   "outputs": [
    {
     "data": {
      "image/png": "[encoded data removed]",
      "text/plain": [
       "<Figure size 800x500 with 1 Axes>"
      ]
     },
     "metadata": {},
     "output_type": "display_data"
    }
   ],
   "source": [
    "plot_model(best, plot='feature')"
   ]
  },
  {
   "cell_type": "code",
   "execution_count": 12,
   "id": "0d078b7a-96d2-4874-9a93-5a57b1b9d003",
   "metadata": {},
   "outputs": [
    {
     "data": {
      "image/png": "[encoded data removed]",
      "text/plain": [
       "<Figure size 800x550 with 1 Axes>"
      ]
     },
     "metadata": {},
     "output_type": "display_data"
    }
   ],
   "source": [
    "plot_model(best, plot='confusion_matrix')"
   ]
  },
  {
   "cell_type": "markdown",
   "id": "fd69254f-277d-4245-8b89-f2202a5d70dc",
   "metadata": {},
   "source": [
    "# Hyperparameters Tuning"
   ]
  },
  {
   "cell_type": "code",
   "execution_count": 13,
   "id": "a9980a75-446a-45bc-a7e3-174384caf509",
   "metadata": {},
   "outputs": [],
   "source": [
    "def rf(trial):\n",
    "    max_depth = trial.suggest_int('max_depth', 1, 100)\n",
    "    n_estimators = trial.suggest_int('n_estimators', 10, 500)\n",
    "    min_samples_leaf = trial.suggest_int('min_samples_leaf', 1, 100)\n",
    "    min_samples_split = trial.suggest_int('min_samples_split', 2, 100)\n",
    "          \n",
    "    model = RandomForestClassifier(\n",
    "        max_depth=max_depth,\n",
    "        n_estimators=n_estimators,\n",
    "        min_samples_leaf=min_samples_leaf,\n",
    "        min_samples_split=min_samples_split\n",
    "    )\n",
    "    \n",
    "    model.fit(X, y)\n",
    "    \n",
    "    cv_scores = cross_val_score(model, X, y, scoring='roc_auc', cv=kf)\n",
    "    \n",
    "    return np.mean(cv_scores)"
   ]
  },
  {
   "cell_type": "code",
   "execution_count": 14,
   "id": "ca461d32-2ecc-4e70-85b9-3bb8523e282c",
   "metadata": {},
   "outputs": [],
   "source": [
    "def lr(trial):\n",
    "    C = trial.suggest_loguniform('C', 0.001, 1000)\n",
    "    solver = trial.suggest_categorical('solver', ['newton-cg', 'liblinear', 'sag', 'saga'])\n",
    "    \n",
    "    if solver=='sag' or solver=='newton-cg':\n",
    "        penalty = 'l2'\n",
    "        multi_class = trial.suggest_categorical('multi_class', ['ovr', 'multinomial'])\n",
    "    elif solver=='liblinear':\n",
    "        multi_class = 'ovr'\n",
    "        penalty = trial.suggest_categorical('penalty', ['l1', 'l2'])\n",
    "        if penalty==1:\n",
    "            l1_ratio = trial.suggest_float(0, 1)\n",
    "    elif solver=='saga':\n",
    "        multi_class = trial.suggest_categorical('multi_class', ['ovr', 'multinomial'])\n",
    "        penalty = trial.suggest_categorical('penalty', ['l1', 'l2'])\n",
    "        if penalty==1:\n",
    "            l1_ratio = trial.suggest_float(0, 1)\n",
    "          \n",
    "    model = LogisticRegression(\n",
    "        C=C,\n",
    "        penalty = penalty,\n",
    "        solver=solver,\n",
    "        multi_class=multi_class\n",
    "    )\n",
    "    \n",
    "    model.fit(X, y)\n",
    "    \n",
    "    cv_scores = cross_val_score(model, X, y, scoring='roc_auc', cv=kf)\n",
    "    \n",
    "    return np.mean(cv_scores)"
   ]
  },
  {
   "cell_type": "code",
   "execution_count": 15,
   "id": "50f8b2e0-bc4a-4267-bec1-fcf45470ef55",
   "metadata": {},
   "outputs": [],
   "source": [
    "def lda(trial):\n",
    "    solver = trial.suggest_categorical('solver', ['svd', 'lsqr', 'eigen'])\n",
    "          \n",
    "    model = LinearDiscriminantAnalysis(\n",
    "        solver=solver\n",
    "    )\n",
    "    \n",
    "    model.fit(X, y)\n",
    "    \n",
    "    cv_scores = cross_val_score(model, X, y, scoring='roc_auc', cv=kf)\n",
    "    \n",
    "    return np.mean(cv_scores)"
   ]
  },
  {
   "cell_type": "code",
   "execution_count": 16,
   "id": "46c31ab4-a137-4917-898d-33d09fb8f180",
   "metadata": {},
   "outputs": [],
   "source": [
    "def et(trial):\n",
    "    max_depth = trial.suggest_int('max_depth', 1, 100)\n",
    "    n_estimators = trial.suggest_int('n_estimators', 10, 500)\n",
    "    min_samples_leaf = trial.suggest_int('min_samples_leaf', 1, 100)\n",
    "    min_samples_split = trial.suggest_int('min_samples_split', 2, 100)\n",
    "    max_features = trial.suggest_categorical('max_features', ['auto', 'sqrt', 'log2', None])\n",
    "\n",
    "          \n",
    "    model = ExtraTreesClassifier(\n",
    "        max_depth=max_depth,\n",
    "        n_estimators=n_estimators,\n",
    "        min_samples_leaf=min_samples_leaf,\n",
    "        min_samples_split=min_samples_split,\n",
    "        max_features=max_features\n",
    "    )\n",
    "    \n",
    "    model.fit(X, y)\n",
    "    \n",
    "    cv_scores = cross_val_score(model, X, y, scoring='roc_auc', cv=kf)\n",
    "    \n",
    "    return np.mean(cv_scores)"
   ]
  },
  {
   "cell_type": "code",
   "execution_count": 17,
   "id": "ca2f1be1-926f-425b-9699-9a8f2840c0c8",
   "metadata": {},
   "outputs": [],
   "source": [
    "# def nb(trial):\n",
    "#     var_smoothing  = trial.suggest_loguniform('var_smoothing', 1e-10, 1e-3)\n",
    "          \n",
    "#     model = GaussianNB(\n",
    "#         var_smoothing=var_smoothing\n",
    "#     )\n",
    "    \n",
    "#     model.fit(X, y)\n",
    "    \n",
    "#     cv_scores = cross_val_score(model, X, y, scoring='roc_auc', cv=kf)\n",
    "    \n",
    "#     return np.mean(cv_scores)"
   ]
  },
  {
   "cell_type": "code",
   "execution_count": 28,
   "id": "38d56240-2c0d-4c9d-a291-a8a588b14fa1",
   "metadata": {},
   "outputs": [],
   "source": [
    "def gbc(trial):\n",
    "    params = {\n",
    "        'n_estimators': trial.suggest_int('n_estimators', 50, 500),\n",
    "        'learning_rate': trial.suggest_loguniform('learning_rate', 0.001, 0.1),\n",
    "        'max_depth': trial.suggest_int('max_depth', 1, 10),\n",
    "        'min_samples_split': trial.suggest_int('min_samples_split', 2, 20),\n",
    "        'min_samples_leaf': trial.suggest_int('min_samples_leaf', 1, 10),\n",
    "        'subsample': trial.suggest_uniform('subsample', 0.1, 1.0)\n",
    "    }\n",
    "    \n",
    "    model = GradientBoostingClassifier(**params)\n",
    "    \n",
    "    model.fit(X, y)\n",
    "    \n",
    "    cv_scores = cross_val_score(model, X, y, scoring='roc_auc', cv=kf)\n",
    "    \n",
    "    return np.mean(cv_scores)"
   ]
  },
  {
   "cell_type": "code",
   "execution_count": 19,
   "id": "889a614d-b71e-4460-a47c-05f52539a909",
   "metadata": {},
   "outputs": [
    {
     "name": "stderr",
     "output_type": "stream",
     "text": [
      "\u001b[32m[I 2023-04-16 19:18:06,899]\u001b[0m A new study created in memory with name: no-name-9a7a3040-ad27-4218-af35-cd165e65635e\u001b[0m\n"
     ]
    },
    {
     "data": {
      "text/plain": [
       "{'max_depth': 38,\n",
       " 'n_estimators': 392,\n",
       " 'min_samples_leaf': 4,\n",
       " 'min_samples_split': 61}"
      ]
     },
     "execution_count": 19,
     "metadata": {},
     "output_type": "execute_result"
    }
   ],
   "source": [
    "study = optuna.create_study(direction='maximize')\n",
    "optuna.logging.set_verbosity(optuna.logging.WARNING)\n",
    "study.optimize(rf, n_trials=100)\n",
    "study.best_params"
   ]
  },
  {
   "cell_type": "code",
   "execution_count": 20,
   "id": "9517fd61-091c-4185-8db9-b72029d0fe20",
   "metadata": {
    "tags": []
   },
   "outputs": [
    {
     "data": {
      "text/plain": [
       "{'C': 5.774981378773462,\n",
       " 'solver': 'saga',\n",
       " 'multi_class': 'ovr',\n",
       " 'penalty': 'l2'}"
      ]
     },
     "execution_count": 20,
     "metadata": {},
     "output_type": "execute_result"
    }
   ],
   "source": [
    "study = optuna.create_study(direction='maximize')\n",
    "optuna.logging.set_verbosity(optuna.logging.WARNING)\n",
    "study.optimize(lr, n_trials=100)\n",
    "study.best_params"
   ]
  },
  {
   "cell_type": "code",
   "execution_count": 21,
   "id": "f740bacb-a8a7-4890-95c2-f8aa8c0c0cf7",
   "metadata": {},
   "outputs": [
    {
     "data": {
      "text/plain": [
       "{'solver': 'lsqr'}"
      ]
     },
     "execution_count": 21,
     "metadata": {},
     "output_type": "execute_result"
    }
   ],
   "source": [
    "study = optuna.create_study(direction='maximize')\n",
    "optuna.logging.set_verbosity(optuna.logging.WARNING)\n",
    "study.optimize(lda, n_trials=100)\n",
    "study.best_params"
   ]
  },
  {
   "cell_type": "code",
   "execution_count": 22,
   "id": "e478ad07-5173-4960-b252-520e0c56426b",
   "metadata": {},
   "outputs": [
    {
     "data": {
      "text/plain": [
       "{'max_depth': 79,\n",
       " 'n_estimators': 372,\n",
       " 'min_samples_leaf': 3,\n",
       " 'min_samples_split': 49,\n",
       " 'max_features': 'auto'}"
      ]
     },
     "execution_count": 22,
     "metadata": {},
     "output_type": "execute_result"
    }
   ],
   "source": [
    "study = optuna.create_study(direction='maximize')\n",
    "optuna.logging.set_verbosity(optuna.logging.WARNING)\n",
    "study.optimize(et, n_trials=100)\n",
    "study.best_params"
   ]
  },
  {
   "cell_type": "code",
   "execution_count": 24,
   "id": "c626c323-c4ba-49d2-927c-1f51a9ac7ddc",
   "metadata": {},
   "outputs": [],
   "source": [
    "# study = optuna.create_study(direction='maximize')\n",
    "# optuna.logging.set_verbosity(optuna.logging.WARNING)\n",
    "# study.optimize(nb, n_trials=100)\n",
    "# study.best_params"
   ]
  },
  {
   "cell_type": "code",
   "execution_count": 26,
   "id": "e458e6e1-2d39-4295-ae39-3210b1bbfe06",
   "metadata": {},
   "outputs": [],
   "source": [
    "# study = optuna.create_study(direction='maximize')\n",
    "# optuna.logging.set_verbosity(optuna.logging.WARNING)\n",
    "# study.optimize(lightgbm, n_trials=100)\n",
    "# study.best_params"
   ]
  },
  {
   "cell_type": "code",
   "execution_count": 29,
   "id": "9f267ee4-76fb-4162-b4d7-7a4185f66c38",
   "metadata": {},
   "outputs": [
    {
     "data": {
      "text/plain": [
       "{'n_estimators': 498,\n",
       " 'learning_rate': 0.014211310691951487,\n",
       " 'max_depth': 1,\n",
       " 'min_samples_split': 7,\n",
       " 'min_samples_leaf': 7,\n",
       " 'subsample': 0.46003560244834774}"
      ]
     },
     "execution_count": 29,
     "metadata": {},
     "output_type": "execute_result"
    }
   ],
   "source": [
    "study = optuna.create_study(direction='maximize')\n",
    "optuna.logging.set_verbosity(optuna.logging.WARNING)\n",
    "study.optimize(gbc, n_trials=100)\n",
    "study.best_params"
   ]
  },
  {
   "cell_type": "code",
   "execution_count": 31,
   "id": "18560081-5ee4-4961-af53-8cecb491e0b2",
   "metadata": {},
   "outputs": [],
   "source": [
    "rf_params = {\n",
    "    'max_depth': 38,\n",
    "    'n_estimators': 392,\n",
    "    'min_samples_leaf': 4,\n",
    "    'min_samples_split': 61\n",
    "}\n",
    "\n",
    "lr_params = {\n",
    "    'C': 5.774981378773462,\n",
    "    'solver': 'saga',\n",
    "    'multi_class': 'ovr',\n",
    "    'penalty': 'l2'\n",
    "}\n",
    "\n",
    "et_params = {\n",
    "    'max_depth': 79,\n",
    "    'n_estimators': 372,\n",
    "    'min_samples_leaf': 3,\n",
    "    'min_samples_split': 49,\n",
    "    'max_features': 'auto'\n",
    "}\n",
    "\n",
    "lda_params = {\n",
    "    'solver': 'lsqr'\n",
    "}\n",
    "\n",
    "gbc_params = {\n",
    "    'n_estimators': 498,\n",
    "    'learning_rate': 0.014211310691951487,\n",
    "    'max_depth': 1,\n",
    "    'min_samples_split': 7,\n",
    "    'min_samples_leaf': 7,\n",
    "    'subsample': 0.46003560244834774\n",
    "}"
   ]
  },
  {
   "cell_type": "markdown",
   "id": "02efef1f-3ffe-49a8-ba7f-f98c8fd36e6f",
   "metadata": {},
   "source": [
    "# Bagging Ensemble"
   ]
  },
  {
   "cell_type": "code",
   "execution_count": 32,
   "id": "c17de32a-750a-40f6-ba48-334087ede9c5",
   "metadata": {},
   "outputs": [],
   "source": [
    "rf_model = RandomForestClassifier(**rf_params)\n",
    "lda_model = LinearDiscriminantAnalysis(**lda_params)\n",
    "lr_model = LogisticRegression(**lr_params)\n",
    "gbc_model = GradientBoostingClassifier(**gbc_params)\n",
    "et_model = ExtraTreesClassifier(**et_params)"
   ]
  },
  {
   "cell_type": "code",
   "execution_count": 43,
   "id": "7f465b4b-94b3-4123-a236-656c1f8b7d9b",
   "metadata": {},
   "outputs": [],
   "source": [
    "final_model = VotingClassifier(estimators=[('rf', rf_model),\n",
    "                                           ('lda', lda_model),\n",
    "                                           ('lr', lr_model), \n",
    "                                           ('gbc', gbc_model),\n",
    "                                           ('et', et_model)], \n",
    "                                 voting='soft')"
   ]
  },
  {
   "cell_type": "markdown",
   "id": "933fe7e6-7352-471e-973d-ec61bc41244d",
   "metadata": {},
   "source": [
    "# Evaluate"
   ]
  },
  {
   "cell_type": "code",
   "execution_count": 44,
   "id": "1115f847-7515-4fd6-9588-601898040e48",
   "metadata": {},
   "outputs": [
    {
     "name": "stdout",
     "output_type": "stream",
     "text": [
      "Accuracy: 0.8086\n"
     ]
    }
   ],
   "source": [
    "results_ensemble = []\n",
    "\n",
    "r_ensemble = cross_val_score(final_model, X, y, scoring='roc_auc')\n",
    "results_ensemble.append(r_ensemble)\n",
    "print(f'Accuracy: {np.mean(results_ensemble).round(4)}')"
   ]
  },
  {
   "cell_type": "markdown",
   "id": "737d1977-eaf8-424a-a3cb-6bff282d6a45",
   "metadata": {},
   "source": [
    "# Model Training"
   ]
  },
  {
   "cell_type": "code",
   "execution_count": 45,
   "id": "376bb1b6-13ab-4403-870d-ebc4c93528ea",
   "metadata": {},
   "outputs": [
    {
     "data": {
      "text/plain": [
       "VotingClassifier(estimators=[('rf',\n",
       "                              RandomForestClassifier(bootstrap=True,\n",
       "                                                     ccp_alpha=0.0,\n",
       "                                                     class_weight=None,\n",
       "                                                     criterion='gini',\n",
       "                                                     max_depth=38,\n",
       "                                                     max_features='auto',\n",
       "                                                     max_leaf_nodes=None,\n",
       "                                                     max_samples=None,\n",
       "                                                     min_impurity_decrease=0.0,\n",
       "                                                     min_impurity_split=None,\n",
       "                                                     min_samples_leaf=4,\n",
       "                                                     min_samples_split=61,\n",
       "                                                     min_weight_fraction_leaf=0.0,\n",
       "                                                     n_estimators=392,\n",
       "                                                     n_jobs=None,\n",
       "                                                     oob_score=...\n",
       "                                                   max_depth=79,\n",
       "                                                   max_features='auto',\n",
       "                                                   max_leaf_nodes=None,\n",
       "                                                   max_samples=None,\n",
       "                                                   min_impurity_decrease=0.0,\n",
       "                                                   min_impurity_split=None,\n",
       "                                                   min_samples_leaf=3,\n",
       "                                                   min_samples_split=49,\n",
       "                                                   min_weight_fraction_leaf=0.0,\n",
       "                                                   n_estimators=372,\n",
       "                                                   n_jobs=None, oob_score=False,\n",
       "                                                   random_state=None, verbose=0,\n",
       "                                                   warm_start=False))],\n",
       "                 flatten_transform=True, n_jobs=None, verbose=False,\n",
       "                 voting='soft', weights=None)"
      ]
     },
     "execution_count": 45,
     "metadata": {},
     "output_type": "execute_result"
    }
   ],
   "source": [
    "final_model.fit(X, y)"
   ]
  },
  {
   "cell_type": "markdown",
   "id": "5c9be563-ef32-4b98-a0dc-0ffe599d6b07",
   "metadata": {},
   "source": [
    "# Prediction"
   ]
  },
  {
   "cell_type": "code",
   "execution_count": 47,
   "id": "74c6f920-78a7-4c18-954e-fbc2ae1b8f8a",
   "metadata": {
    "tags": []
   },
   "outputs": [
    {
     "data": {
      "text/html": [
       "<div>\n",
       "<style scoped>\n",
       "    .dataframe tbody tr th:only-of-type {\n",
       "        vertical-align: middle;\n",
       "    }\n",
       "\n",
       "    .dataframe tbody tr th {\n",
       "        vertical-align: top;\n",
       "    }\n",
       "\n",
       "    .dataframe thead th {\n",
       "        text-align: right;\n",
       "    }\n",
       "</style>\n",
       "<table border=\"1\" class=\"dataframe\">\n",
       "  <thead>\n",
       "    <tr style=\"text-align: right;\">\n",
       "      <th></th>\n",
       "      <th>id</th>\n",
       "      <th>target</th>\n",
       "    </tr>\n",
       "  </thead>\n",
       "  <tbody>\n",
       "    <tr>\n",
       "      <th>0</th>\n",
       "      <td>414</td>\n",
       "      <td>0</td>\n",
       "    </tr>\n",
       "    <tr>\n",
       "      <th>1</th>\n",
       "      <td>415</td>\n",
       "      <td>0</td>\n",
       "    </tr>\n",
       "    <tr>\n",
       "      <th>2</th>\n",
       "      <td>416</td>\n",
       "      <td>1</td>\n",
       "    </tr>\n",
       "    <tr>\n",
       "      <th>3</th>\n",
       "      <td>417</td>\n",
       "      <td>0</td>\n",
       "    </tr>\n",
       "    <tr>\n",
       "      <th>4</th>\n",
       "      <td>418</td>\n",
       "      <td>0</td>\n",
       "    </tr>\n",
       "    <tr>\n",
       "      <th>...</th>\n",
       "      <td>...</td>\n",
       "      <td>...</td>\n",
       "    </tr>\n",
       "    <tr>\n",
       "      <th>271</th>\n",
       "      <td>685</td>\n",
       "      <td>1</td>\n",
       "    </tr>\n",
       "    <tr>\n",
       "      <th>272</th>\n",
       "      <td>686</td>\n",
       "      <td>0</td>\n",
       "    </tr>\n",
       "    <tr>\n",
       "      <th>273</th>\n",
       "      <td>687</td>\n",
       "      <td>1</td>\n",
       "    </tr>\n",
       "    <tr>\n",
       "      <th>274</th>\n",
       "      <td>688</td>\n",
       "      <td>0</td>\n",
       "    </tr>\n",
       "    <tr>\n",
       "      <th>275</th>\n",
       "      <td>689</td>\n",
       "      <td>0</td>\n",
       "    </tr>\n",
       "  </tbody>\n",
       "</table>\n",
       "<p>276 rows × 2 columns</p>\n",
       "</div>"
      ],
      "text/plain": [
       "      id  target\n",
       "0    414       0\n",
       "1    415       0\n",
       "2    416       1\n",
       "3    417       0\n",
       "4    418       0\n",
       "..   ...     ...\n",
       "271  685       1\n",
       "272  686       0\n",
       "273  687       1\n",
       "274  688       0\n",
       "275  689       0\n",
       "\n",
       "[276 rows x 2 columns]"
      ]
     },
     "execution_count": 47,
     "metadata": {},
     "output_type": "execute_result"
    }
   ],
   "source": [
    "final_predictions = final_model.predict(test[['cond', 'calc']])\n",
    "\n",
    "submission = pd.concat([pd.Series(test.index), pd.Series(final_predictions, name='target')], axis=1)\n",
    "submission"
   ]
  },
  {
   "cell_type": "markdown",
   "id": "b212de09-556c-4a83-9133-33680d14b91c",
   "metadata": {},
   "source": [
    "# Submission"
   ]
  },
  {
   "cell_type": "code",
   "execution_count": 48,
   "id": "a8398413-14aa-4dfa-976a-0643d5777a09",
   "metadata": {},
   "outputs": [],
   "source": [
    "submission.to_csv('submission_ensemble_model_2_features.csv', index=False)"
   ]
  },
  {
   "cell_type": "code",
   "execution_count": null,
   "id": "6a195069-bf43-450e-aa04-204395623574",
   "metadata": {},
   "outputs": [],
   "source": []
  }
 ],
 "metadata": {
  "kernelspec": {
   "display_name": "Python 3 (ipykernel)",
   "language": "python",
   "name": "python3"
  },
  "language_info": {
   "codemirror_mode": {
    "name": "ipython",
    "version": 3
   },
   "file_extension": ".py",
   "mimetype": "text/x-python",
   "name": "python",
   "nbconvert_exporter": "python",
   "pygments_lexer": "ipython3",
   "version": "3.7.15"
  }
 },
 "nbformat": 4,
 "nbformat_minor": 5
}
