{
 "cells": [
  {
   "cell_type": "code",
   "execution_count": 1,
   "id": "9f79ee22-62b6-4946-b058-403697023d5e",
   "metadata": {},
   "outputs": [],
   "source": [
    "import pandas as pd\n",
    "import numpy as np\n",
    "\n",
    "from sklearn.preprocessing import StandardScaler\n",
    "from sklearn.model_selection import RepeatedStratifiedKFold, train_test_split\n",
    "from sklearn.metrics import roc_auc_score\n",
    "\n",
    "from keras.models import Sequential\n",
    "from keras.layers import Dense\n",
    "from keras_tuner import RandomSearch\n",
    "from keras_tuner import Objective\n",
    "\n",
    "from tensorflow.keras.optimizers import Adam\n",
    "from tensorflow.keras.metrics import AUC\n",
    "from tensorflow.keras.regularizers import L2"
   ]
  },
  {
   "cell_type": "markdown",
   "id": "2ddafe68-2268-4756-9d38-7807bc50dc86",
   "metadata": {},
   "source": [
    "# Load Data"
   ]
  },
  {
   "cell_type": "code",
   "execution_count": 2,
   "id": "a85a2c67-5a5e-4506-bf83-404a9e7138f7",
   "metadata": {},
   "outputs": [],
   "source": [
    "train = pd.read_csv('train.csv', index_col='id')\n",
    "test = pd.read_csv('test.csv', index_col='id')"
   ]
  },
  {
   "cell_type": "code",
   "execution_count": 3,
   "id": "fd9d69ea-b189-4e5d-9f2d-86d5a6154c0f",
   "metadata": {},
   "outputs": [
    {
     "data": {
      "text/plain": [
       "(414, 7)"
      ]
     },
     "execution_count": 3,
     "metadata": {},
     "output_type": "execute_result"
    }
   ],
   "source": [
    "train.shape"
   ]
  },
  {
   "cell_type": "code",
   "execution_count": 4,
   "id": "e095c955-92bd-4f7d-9aad-2f8b75d4bfe6",
   "metadata": {},
   "outputs": [
    {
     "data": {
      "text/html": [
       "<div>\n",
       "<style scoped>\n",
       "    .dataframe tbody tr th:only-of-type {\n",
       "        vertical-align: middle;\n",
       "    }\n",
       "\n",
       "    .dataframe tbody tr th {\n",
       "        vertical-align: top;\n",
       "    }\n",
       "\n",
       "    .dataframe thead th {\n",
       "        text-align: right;\n",
       "    }\n",
       "</style>\n",
       "<table border=\"1\" class=\"dataframe\">\n",
       "  <thead>\n",
       "    <tr style=\"text-align: right;\">\n",
       "      <th></th>\n",
       "      <th>gravity</th>\n",
       "      <th>ph</th>\n",
       "      <th>osmo</th>\n",
       "      <th>cond</th>\n",
       "      <th>urea</th>\n",
       "      <th>calc</th>\n",
       "      <th>target</th>\n",
       "    </tr>\n",
       "    <tr>\n",
       "      <th>id</th>\n",
       "      <th></th>\n",
       "      <th></th>\n",
       "      <th></th>\n",
       "      <th></th>\n",
       "      <th></th>\n",
       "      <th></th>\n",
       "      <th></th>\n",
       "    </tr>\n",
       "  </thead>\n",
       "  <tbody>\n",
       "    <tr>\n",
       "      <th>0</th>\n",
       "      <td>1.013</td>\n",
       "      <td>6.19</td>\n",
       "      <td>443</td>\n",
       "      <td>14.8</td>\n",
       "      <td>124</td>\n",
       "      <td>1.45</td>\n",
       "      <td>0</td>\n",
       "    </tr>\n",
       "    <tr>\n",
       "      <th>1</th>\n",
       "      <td>1.025</td>\n",
       "      <td>5.40</td>\n",
       "      <td>703</td>\n",
       "      <td>23.6</td>\n",
       "      <td>394</td>\n",
       "      <td>4.18</td>\n",
       "      <td>0</td>\n",
       "    </tr>\n",
       "    <tr>\n",
       "      <th>2</th>\n",
       "      <td>1.009</td>\n",
       "      <td>6.13</td>\n",
       "      <td>371</td>\n",
       "      <td>24.5</td>\n",
       "      <td>159</td>\n",
       "      <td>9.04</td>\n",
       "      <td>0</td>\n",
       "    </tr>\n",
       "    <tr>\n",
       "      <th>3</th>\n",
       "      <td>1.021</td>\n",
       "      <td>4.91</td>\n",
       "      <td>442</td>\n",
       "      <td>20.8</td>\n",
       "      <td>398</td>\n",
       "      <td>6.63</td>\n",
       "      <td>1</td>\n",
       "    </tr>\n",
       "    <tr>\n",
       "      <th>4</th>\n",
       "      <td>1.021</td>\n",
       "      <td>5.53</td>\n",
       "      <td>874</td>\n",
       "      <td>17.8</td>\n",
       "      <td>385</td>\n",
       "      <td>2.21</td>\n",
       "      <td>1</td>\n",
       "    </tr>\n",
       "  </tbody>\n",
       "</table>\n",
       "</div>"
      ],
      "text/plain": [
       "    gravity    ph  osmo  cond  urea  calc  target\n",
       "id                                               \n",
       "0     1.013  6.19   443  14.8   124  1.45       0\n",
       "1     1.025  5.40   703  23.6   394  4.18       0\n",
       "2     1.009  6.13   371  24.5   159  9.04       0\n",
       "3     1.021  4.91   442  20.8   398  6.63       1\n",
       "4     1.021  5.53   874  17.8   385  2.21       1"
      ]
     },
     "execution_count": 4,
     "metadata": {},
     "output_type": "execute_result"
    }
   ],
   "source": [
    "train.head()"
   ]
  },
  {
   "cell_type": "code",
   "execution_count": 5,
   "id": "2391b1c9-cb96-48ec-9b6e-58ea99f1409e",
   "metadata": {},
   "outputs": [
    {
     "data": {
      "text/plain": [
       "0    230\n",
       "1    184\n",
       "Name: target, dtype: int64"
      ]
     },
     "execution_count": 5,
     "metadata": {},
     "output_type": "execute_result"
    }
   ],
   "source": [
    "train.target.value_counts()"
   ]
  },
  {
   "cell_type": "code",
   "execution_count": 6,
   "id": "7f595b5a-1044-40fd-82ba-27de2bb7fede",
   "metadata": {},
   "outputs": [],
   "source": [
    "X = train.drop('target', axis=1).copy()\n",
    "y = train.target"
   ]
  },
  {
   "cell_type": "markdown",
   "id": "723e0edb-0726-42be-9195-92575ec53d7b",
   "metadata": {},
   "source": [
    "# Feature Scaling"
   ]
  },
  {
   "cell_type": "code",
   "execution_count": 7,
   "id": "d231a6f4-230b-4a4e-9d63-a767a357f0ec",
   "metadata": {},
   "outputs": [],
   "source": [
    "#First we need to combine train and test, scale then split again\n",
    "X1 = pd.concat([X, test])\n",
    "\n",
    "scaler = StandardScaler()\n",
    "X2 = pd.DataFrame(scaler.fit_transform(X1) ,columns = X.columns)\n",
    "\n",
    "X = X2.iloc[:len(train), :]\n",
    "test = X2.iloc[len(train):, :]"
   ]
  },
  {
   "cell_type": "markdown",
   "id": "0925eeea-ca1a-4e21-b4e4-0eae38a136de",
   "metadata": {},
   "source": [
    "# Define MLP model"
   ]
  },
  {
   "cell_type": "code",
   "execution_count": 8,
   "id": "e40d960c-59af-4424-8d58-96b3def74a6d",
   "metadata": {},
   "outputs": [
    {
     "name": "stdout",
     "output_type": "stream",
     "text": [
      "Trial 100 Complete [00h 00m 02s]\n",
      "val_auc: 0.8611111640930176\n",
      "\n",
      "Best val_auc So Far: 0.8949275016784668\n",
      "Total elapsed time: 00h 03m 40s\n",
      "INFO:tensorflow:Oracle triggered exit\n",
      "Epoch 1/10\n",
      "13/13 [==============================] - 1s 3ms/step - loss: 0.6628 - auc: 0.6612\n",
      "Epoch 2/10\n",
      "13/13 [==============================] - 0s 3ms/step - loss: 0.5950 - auc: 0.7647\n",
      "Epoch 3/10\n",
      "13/13 [==============================] - 0s 3ms/step - loss: 0.5743 - auc: 0.7736\n",
      "Epoch 4/10\n",
      "13/13 [==============================] - 0s 2ms/step - loss: 0.5675 - auc: 0.7849\n",
      "Epoch 5/10\n",
      "13/13 [==============================] - 0s 3ms/step - loss: 0.5561 - auc: 0.8009\n",
      "Epoch 6/10\n",
      "13/13 [==============================] - 0s 3ms/step - loss: 0.5484 - auc: 0.8079\n",
      "Epoch 7/10\n",
      "13/13 [==============================] - 0s 3ms/step - loss: 0.5494 - auc: 0.8087\n",
      "Epoch 8/10\n",
      "13/13 [==============================] - 0s 3ms/step - loss: 0.5445 - auc: 0.8100\n",
      "Epoch 9/10\n",
      "13/13 [==============================] - 0s 3ms/step - loss: 0.5357 - auc: 0.8160\n",
      "Epoch 10/10\n",
      "13/13 [==============================] - 0s 3ms/step - loss: 0.5327 - auc: 0.8183\n",
      "2/2 [==============================] - 0s 2ms/step\n"
     ]
    }
   ],
   "source": [
    "# Define your build_model function\n",
    "def build_model(hp):\n",
    "    model = Sequential()\n",
    "    model.add(Dense(units=hp.Int('units_input', min_value=32, max_value=512, step=32), activation='relu', input_dim=X.shape[1]))\n",
    "    for i in range(hp.Int('num_hidden_layers', min_value=0, max_value=3)):\n",
    "        model.add(Dense(units=hp.Int(f'units_{i}', min_value=32, max_value=512, step=32), activation=hp.Choice(f'activation_{i}', values=['relu', 'sigmoid', 'tanh'])))\n",
    "    model.add(Dense(1, activation='sigmoid'))\n",
    "    \n",
    "    model.compile(optimizer=Adam(learning_rate=hp.Float('learning_rate', min_value=1e-4, max_value=1e-2, sampling=\"log\")),\n",
    "                  loss='binary_crossentropy',\n",
    "                  metrics=['AUC'])\n",
    "    return model\n",
    "\n",
    "# Define an empty array to store ensemble predictions\n",
    "ensemble_predictions = np.zeros_like(y, dtype=float)\n",
    "\n",
    "rskf = RepeatedStratifiedKFold(n_splits=10, n_repeats=5, random_state=0)\n",
    "best_hyperparameters = []\n",
    "best_models = []\n",
    "\n",
    "for i, (train_index, test_index) in enumerate(rskf.split(X, y)):\n",
    "    X_train, X_test = X.iloc[train_index], X.iloc[test_index]\n",
    "    y_train, y_test = y[train_index], y[test_index]\n",
    "    \n",
    "    tuner = RandomSearch(build_model, \n",
    "                         objective=Objective(\"val_auc\", direction=\"max\"),\n",
    "                         max_trials=100,\n",
    "                         executions_per_trial=1,\n",
    "                         directory=f'C:/Users/Anes3/Documents/keras_tuner_dir_fold_{i}',\n",
    "                         project_name=f'my_hyperparameter_search_fold_{i}'\n",
    "            )\n",
    "\n",
    "    tuner.search(X_train, y_train,\n",
    "                 epochs=20,\n",
    "                 batch_size=32,\n",
    "                 validation_data=(X_test, y_test))\n",
    "    \n",
    "    # Get the best hyperparameters for this fold\n",
    "    best_hyperparameters.append(tuner.get_best_hyperparameters(num_trials=1)[0])\n",
    "\n",
    "    # Build and train the best model for this fold on the full dataset\n",
    "    best_model = tuner.hypermodel.build(best_hyperparameters[-1])\n",
    "    best_model.fit(X, y, epochs=10, batch_size=32)\n",
    "    best_models.append(best_model)\n",
    "    \n",
    "    # Use the trained model to predict on the test data\n",
    "    y_pred = best_model.predict(X_test)\n",
    "    \n",
    "    # Add the predictions to the ensemble array\n",
    "    ensemble_predictions[test_index] += y_pred.flatten()"
   ]
  },
  {
   "cell_type": "code",
   "execution_count": 10,
   "id": "afdc7fb0-548c-4f9d-921f-4f3de607215f",
   "metadata": {},
   "outputs": [
    {
     "name": "stdout",
     "output_type": "stream",
     "text": [
      "Ensemble AUC: 0.8547\n"
     ]
    }
   ],
   "source": [
    "# Average the ensemble predictions\n",
    "ensemble_predictions /= len(best_models)\n",
    "\n",
    "# Convert the ensemble predictions to binary using a threshold (e.g., 0.5)\n",
    "ensemble_predictions_binary = np.where(ensemble_predictions > 0.5, 1, 0)\n",
    "\n",
    "# Evaluate the ensemble predictions\n",
    "ensemble_auc = roc_auc_score(y, ensemble_predictions)\n",
    "\n",
    "print(\"Ensemble AUC:\", ensemble_auc.round(4))"
   ]
  },
  {
   "cell_type": "code",
   "execution_count": 11,
   "id": "dc7e733d-16e6-458b-8858-7290a9c4f59a",
   "metadata": {},
   "outputs": [
    {
     "name": "stdout",
     "output_type": "stream",
     "text": [
      "9/9 [==============================] - 0s 1ms/step\n",
      "9/9 [==============================] - 0s 1ms/step\n",
      "9/9 [==============================] - 0s 853us/step\n",
      "9/9 [==============================] - 0s 1ms/step\n",
      "9/9 [==============================] - 0s 873us/step\n",
      "9/9 [==============================] - 0s 751us/step\n",
      "9/9 [==============================] - 0s 873us/step\n",
      "9/9 [==============================] - 0s 1ms/step\n",
      "9/9 [==============================] - 0s 873us/step\n",
      "9/9 [==============================] - 0s 997us/step\n",
      "9/9 [==============================] - 0s 737us/step\n",
      "9/9 [==============================] - 0s 876us/step\n",
      "9/9 [==============================] - 0s 1ms/step\n",
      "9/9 [==============================] - 0s 748us/step\n",
      "9/9 [==============================] - 0s 748us/step\n",
      "9/9 [==============================] - 0s 748us/step\n",
      "9/9 [==============================] - 0s 997us/step\n",
      "9/9 [==============================] - 0s 1ms/step\n",
      "9/9 [==============================] - 0s 2ms/step\n",
      "9/9 [==============================] - 0s 748us/step\n",
      "9/9 [==============================] - 0s 1ms/step\n",
      "9/9 [==============================] - 0s 1ms/step\n",
      "9/9 [==============================] - 0s 748us/step\n",
      "9/9 [==============================] - 0s 748us/step\n",
      "9/9 [==============================] - 0s 951us/step\n",
      "9/9 [==============================] - 0s 748us/step\n",
      "9/9 [==============================] - 0s 997us/step\n",
      "9/9 [==============================] - 0s 997us/step\n",
      "9/9 [==============================] - 0s 858us/step\n",
      "9/9 [==============================] - 0s 1ms/step\n",
      "9/9 [==============================] - 0s 1ms/step\n",
      "9/9 [==============================] - 0s 748us/step\n",
      "9/9 [==============================] - 0s 1ms/step\n",
      "9/9 [==============================] - 0s 877us/step\n",
      "9/9 [==============================] - 0s 748us/step\n",
      "9/9 [==============================] - 0s 1ms/step\n",
      "9/9 [==============================] - 0s 873us/step\n",
      "9/9 [==============================] - 0s 748us/step\n",
      "9/9 [==============================] - 0s 748us/step\n",
      "9/9 [==============================] - 0s 935us/step\n",
      "9/9 [==============================] - 0s 876us/step\n",
      "9/9 [==============================] - 0s 873us/step\n",
      "9/9 [==============================] - 0s 873us/step\n",
      "9/9 [==============================] - 0s 748us/step\n",
      "9/9 [==============================] - 0s 748us/step\n",
      "9/9 [==============================] - 0s 876us/step\n",
      "9/9 [==============================] - 0s 873us/step\n",
      "9/9 [==============================] - 0s 876us/step\n",
      "9/9 [==============================] - 0s 1ms/step\n",
      "9/9 [==============================] - 0s 1ms/step\n"
     ]
    }
   ],
   "source": [
    "# Make predictions on new data using the trained ensemble\n",
    "ensemble_predictions_new = np.zeros((test.shape[0],))  # Initialize an array to store ensemble predictions for new data\n",
    "\n",
    "for best_model in best_models:\n",
    "    # Predict using each model in the ensemble\n",
    "    y_pred = best_model.predict(test)\n",
    "    ensemble_predictions_new += y_pred.flatten()\n",
    "\n",
    "# Average the ensemble predictions for new data\n",
    "ensemble_predictions_new /= len(best_models)\n",
    "\n",
    "# Convert the ensemble predictions for new data to binary using a threshold (e.g., 0.5)\n",
    "ensemble_predictions_binary_new = np.where(ensemble_predictions_new > 0.5, 1, 0)"
   ]
  },
  {
   "cell_type": "code",
   "execution_count": null,
   "id": "6e007e25-43a6-4dfc-ac84-de82a1e582e8",
   "metadata": {},
   "outputs": [],
   "source": [
    "# for best_hyperparams in hyper_params:\n",
    "#     # Access the best hyperparameters\n",
    "#     best_input_units = best_hyperparams.get('units_input')\n",
    "#     best_hidden_layers = best_hyperparams.get('num_hidden_layers')\n",
    "\n",
    "#     best_activation = []\n",
    "#     best_units = []\n",
    "\n",
    "#     # Extract the values of activation functions and units for each hidden layer\n",
    "#     for i in range(best_hidden_layers):\n",
    "#         best_activation.append(best_hyperparams.get(f'activation_{i}'))\n",
    "#         best_units.append(best_hyperparams.get(f'units_{i}'))\n",
    "\n",
    "\n",
    "#     # Print the best hyperparameters\n",
    "#     print(\"Best Hyperparameters:\")\n",
    "#     print(\"input units =\", best_input_units)\n",
    "#     print(\"number of hidden layers =\", best_hidden_layers)\n",
    "#     print(\"activation =\", best_activation)\n",
    "#     print(\"units =\", best_units)\n",
    "    \n",
    "#     print('-'*60)"
   ]
  },
  {
   "cell_type": "code",
   "execution_count": 12,
   "id": "be116196-bd31-4a4c-8256-46d477dbce54",
   "metadata": {},
   "outputs": [
    {
     "data": {
      "text/html": [
       "<div>\n",
       "<style scoped>\n",
       "    .dataframe tbody tr th:only-of-type {\n",
       "        vertical-align: middle;\n",
       "    }\n",
       "\n",
       "    .dataframe tbody tr th {\n",
       "        vertical-align: top;\n",
       "    }\n",
       "\n",
       "    .dataframe thead th {\n",
       "        text-align: right;\n",
       "    }\n",
       "</style>\n",
       "<table border=\"1\" class=\"dataframe\">\n",
       "  <thead>\n",
       "    <tr style=\"text-align: right;\">\n",
       "      <th></th>\n",
       "      <th>id</th>\n",
       "      <th>target</th>\n",
       "    </tr>\n",
       "  </thead>\n",
       "  <tbody>\n",
       "    <tr>\n",
       "      <th>0</th>\n",
       "      <td>414</td>\n",
       "      <td>0</td>\n",
       "    </tr>\n",
       "    <tr>\n",
       "      <th>1</th>\n",
       "      <td>415</td>\n",
       "      <td>0</td>\n",
       "    </tr>\n",
       "    <tr>\n",
       "      <th>2</th>\n",
       "      <td>416</td>\n",
       "      <td>1</td>\n",
       "    </tr>\n",
       "    <tr>\n",
       "      <th>3</th>\n",
       "      <td>417</td>\n",
       "      <td>1</td>\n",
       "    </tr>\n",
       "    <tr>\n",
       "      <th>4</th>\n",
       "      <td>418</td>\n",
       "      <td>0</td>\n",
       "    </tr>\n",
       "    <tr>\n",
       "      <th>...</th>\n",
       "      <td>...</td>\n",
       "      <td>...</td>\n",
       "    </tr>\n",
       "    <tr>\n",
       "      <th>271</th>\n",
       "      <td>685</td>\n",
       "      <td>1</td>\n",
       "    </tr>\n",
       "    <tr>\n",
       "      <th>272</th>\n",
       "      <td>686</td>\n",
       "      <td>0</td>\n",
       "    </tr>\n",
       "    <tr>\n",
       "      <th>273</th>\n",
       "      <td>687</td>\n",
       "      <td>0</td>\n",
       "    </tr>\n",
       "    <tr>\n",
       "      <th>274</th>\n",
       "      <td>688</td>\n",
       "      <td>0</td>\n",
       "    </tr>\n",
       "    <tr>\n",
       "      <th>275</th>\n",
       "      <td>689</td>\n",
       "      <td>0</td>\n",
       "    </tr>\n",
       "  </tbody>\n",
       "</table>\n",
       "<p>276 rows × 2 columns</p>\n",
       "</div>"
      ],
      "text/plain": [
       "      id  target\n",
       "0    414       0\n",
       "1    415       0\n",
       "2    416       1\n",
       "3    417       1\n",
       "4    418       0\n",
       "..   ...     ...\n",
       "271  685       1\n",
       "272  686       0\n",
       "273  687       0\n",
       "274  688       0\n",
       "275  689       0\n",
       "\n",
       "[276 rows x 2 columns]"
      ]
     },
     "execution_count": 12,
     "metadata": {},
     "output_type": "execute_result"
    }
   ],
   "source": [
    "submission = pd.concat([pd.Series(test.index, name='id'), pd.Series(ensemble_predictions_binary_new, name='target')], axis=1)\n",
    "submission"
   ]
  },
  {
   "cell_type": "markdown",
   "id": "b212de09-556c-4a83-9133-33680d14b91c",
   "metadata": {},
   "source": [
    "# Submission"
   ]
  },
  {
   "cell_type": "code",
   "execution_count": 13,
   "id": "a8398413-14aa-4dfa-976a-0643d5777a09",
   "metadata": {},
   "outputs": [],
   "source": [
    "submission.to_csv('submission_MLP_model_rskf_ensemble.csv', index=False)"
   ]
  },
  {
   "cell_type": "code",
   "execution_count": null,
   "id": "1caa4ae9-5343-4da3-b94b-36c5429f7b42",
   "metadata": {},
   "outputs": [],
   "source": []
  }
 ],
 "metadata": {
  "kernelspec": {
   "display_name": "Python 3 (ipykernel)",
   "language": "python",
   "name": "python3"
  },
  "language_info": {
   "codemirror_mode": {
    "name": "ipython",
    "version": 3
   },
   "file_extension": ".py",
   "mimetype": "text/x-python",
   "name": "python",
   "nbconvert_exporter": "python",
   "pygments_lexer": "ipython3",
   "version": "3.7.15"
  }
 },
 "nbformat": 4,
 "nbformat_minor": 5
}
