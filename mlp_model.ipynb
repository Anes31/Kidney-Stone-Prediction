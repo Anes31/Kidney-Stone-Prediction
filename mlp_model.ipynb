{
 "cells": [
  {
   "cell_type": "code",
   "execution_count": 1,
   "id": "9f79ee22-62b6-4946-b058-403697023d5e",
   "metadata": {},
   "outputs": [],
   "source": [
    "import pandas as pd\n",
    "import numpy as np\n",
    "\n",
    "from sklearn.preprocessing import StandardScaler\n",
    "from sklearn.model_selection import train_test_split\n",
    "\n",
    "from keras.models import Sequential\n",
    "from keras.layers import Dense\n",
    "from keras_tuner import RandomSearch\n",
    "from keras_tuner import Objective\n",
    "from tensorflow.keras.regularizers import L2"
   ]
  },
  {
   "cell_type": "markdown",
   "id": "2ddafe68-2268-4756-9d38-7807bc50dc86",
   "metadata": {},
   "source": [
    "# Load Data"
   ]
  },
  {
   "cell_type": "code",
   "execution_count": 2,
   "id": "a85a2c67-5a5e-4506-bf83-404a9e7138f7",
   "metadata": {},
   "outputs": [],
   "source": [
    "train = pd.read_csv('train.csv', index_col='id')\n",
    "test = pd.read_csv('test.csv', index_col='id')"
   ]
  },
  {
   "cell_type": "code",
   "execution_count": 3,
   "id": "fd9d69ea-b189-4e5d-9f2d-86d5a6154c0f",
   "metadata": {},
   "outputs": [
    {
     "data": {
      "text/plain": [
       "(414, 7)"
      ]
     },
     "execution_count": 3,
     "metadata": {},
     "output_type": "execute_result"
    }
   ],
   "source": [
    "train.shape"
   ]
  },
  {
   "cell_type": "code",
   "execution_count": 4,
   "id": "e095c955-92bd-4f7d-9aad-2f8b75d4bfe6",
   "metadata": {},
   "outputs": [
    {
     "data": {
      "text/html": [
       "<div>\n",
       "<style scoped>\n",
       "    .dataframe tbody tr th:only-of-type {\n",
       "        vertical-align: middle;\n",
       "    }\n",
       "\n",
       "    .dataframe tbody tr th {\n",
       "        vertical-align: top;\n",
       "    }\n",
       "\n",
       "    .dataframe thead th {\n",
       "        text-align: right;\n",
       "    }\n",
       "</style>\n",
       "<table border=\"1\" class=\"dataframe\">\n",
       "  <thead>\n",
       "    <tr style=\"text-align: right;\">\n",
       "      <th></th>\n",
       "      <th>gravity</th>\n",
       "      <th>ph</th>\n",
       "      <th>osmo</th>\n",
       "      <th>cond</th>\n",
       "      <th>urea</th>\n",
       "      <th>calc</th>\n",
       "      <th>target</th>\n",
       "    </tr>\n",
       "    <tr>\n",
       "      <th>id</th>\n",
       "      <th></th>\n",
       "      <th></th>\n",
       "      <th></th>\n",
       "      <th></th>\n",
       "      <th></th>\n",
       "      <th></th>\n",
       "      <th></th>\n",
       "    </tr>\n",
       "  </thead>\n",
       "  <tbody>\n",
       "    <tr>\n",
       "      <th>0</th>\n",
       "      <td>1.013</td>\n",
       "      <td>6.19</td>\n",
       "      <td>443</td>\n",
       "      <td>14.8</td>\n",
       "      <td>124</td>\n",
       "      <td>1.45</td>\n",
       "      <td>0</td>\n",
       "    </tr>\n",
       "    <tr>\n",
       "      <th>1</th>\n",
       "      <td>1.025</td>\n",
       "      <td>5.40</td>\n",
       "      <td>703</td>\n",
       "      <td>23.6</td>\n",
       "      <td>394</td>\n",
       "      <td>4.18</td>\n",
       "      <td>0</td>\n",
       "    </tr>\n",
       "    <tr>\n",
       "      <th>2</th>\n",
       "      <td>1.009</td>\n",
       "      <td>6.13</td>\n",
       "      <td>371</td>\n",
       "      <td>24.5</td>\n",
       "      <td>159</td>\n",
       "      <td>9.04</td>\n",
       "      <td>0</td>\n",
       "    </tr>\n",
       "    <tr>\n",
       "      <th>3</th>\n",
       "      <td>1.021</td>\n",
       "      <td>4.91</td>\n",
       "      <td>442</td>\n",
       "      <td>20.8</td>\n",
       "      <td>398</td>\n",
       "      <td>6.63</td>\n",
       "      <td>1</td>\n",
       "    </tr>\n",
       "    <tr>\n",
       "      <th>4</th>\n",
       "      <td>1.021</td>\n",
       "      <td>5.53</td>\n",
       "      <td>874</td>\n",
       "      <td>17.8</td>\n",
       "      <td>385</td>\n",
       "      <td>2.21</td>\n",
       "      <td>1</td>\n",
       "    </tr>\n",
       "  </tbody>\n",
       "</table>\n",
       "</div>"
      ],
      "text/plain": [
       "    gravity    ph  osmo  cond  urea  calc  target\n",
       "id                                               \n",
       "0     1.013  6.19   443  14.8   124  1.45       0\n",
       "1     1.025  5.40   703  23.6   394  4.18       0\n",
       "2     1.009  6.13   371  24.5   159  9.04       0\n",
       "3     1.021  4.91   442  20.8   398  6.63       1\n",
       "4     1.021  5.53   874  17.8   385  2.21       1"
      ]
     },
     "execution_count": 4,
     "metadata": {},
     "output_type": "execute_result"
    }
   ],
   "source": [
    "train.head()"
   ]
  },
  {
   "cell_type": "code",
   "execution_count": 5,
   "id": "2391b1c9-cb96-48ec-9b6e-58ea99f1409e",
   "metadata": {},
   "outputs": [
    {
     "data": {
      "text/plain": [
       "0    230\n",
       "1    184\n",
       "Name: target, dtype: int64"
      ]
     },
     "execution_count": 5,
     "metadata": {},
     "output_type": "execute_result"
    }
   ],
   "source": [
    "train.target.value_counts()"
   ]
  },
  {
   "cell_type": "code",
   "execution_count": 6,
   "id": "0593d089-f38f-4e03-b117-cde3fa87543d",
   "metadata": {},
   "outputs": [],
   "source": [
    "def create_new_features(data):\n",
    "    # Ion product of calcium and urea\n",
    "    data[\"ion_product\"] = data[\"calc\"] * data[\"urea\"]\n",
    "\n",
    "    # Calcium-to-urea ratio\n",
    "    data[\"calcium_to_urea_ratio\"] = data[\"calc\"] / data[\"urea\"]\n",
    "\n",
    "    # Electrolyte balance\n",
    "    data[\"electrolyte_balance\"] = data[\"cond\"] / (10 ** (-data[\"ph\"]))\n",
    "\n",
    "    # Osmolality-to-specific gravity ratio\n",
    "    data[\"osmolality_to_sg_ratio\"] = data[\"osmo\"] / data[\"gravity\"]\n",
    "    \n",
    "    ## Add Feature engineering part \n",
    "    # The product of osmolarity and density is created as a new property\n",
    "    data['osmo_density'] = data['osmo'] * data['gravity']\n",
    "    \n",
    "    # Converting pH column to categorical variable\n",
    "    data['pH_cat'] = pd.cut(data['ph'], bins=[0, 4.5, 6.5, 8.5, 14], labels=['sangat acidic', 'acidic', 'neutral', 'basic'])\n",
    "    dummies = pd.get_dummies(data['pH_cat'])\n",
    "    data = pd.concat([data, dummies], axis=1)\n",
    "    \n",
    "    # Deleting columns using dummy variables.\n",
    "    data = data.drop(['pH_cat', 'sangat acidic' , 'basic','neutral','ph'], axis=1)\n",
    "    \n",
    "    return data\n",
    "\n",
    "train = create_new_features(train)"
   ]
  },
  {
   "cell_type": "code",
   "execution_count": 6,
   "id": "7f595b5a-1044-40fd-82ba-27de2bb7fede",
   "metadata": {},
   "outputs": [],
   "source": [
    "X = train.drop('target', axis=1).copy()\n",
    "y = train.target"
   ]
  },
  {
   "cell_type": "markdown",
   "id": "723e0edb-0726-42be-9195-92575ec53d7b",
   "metadata": {},
   "source": [
    "# Feature Scaling"
   ]
  },
  {
   "cell_type": "code",
   "execution_count": 7,
   "id": "d231a6f4-230b-4a4e-9d63-a767a357f0ec",
   "metadata": {},
   "outputs": [],
   "source": [
    "#First we need to combine train and test, scale then split again\n",
    "X1 = pd.concat([X, test])\n",
    "\n",
    "scaler = StandardScaler()\n",
    "X2 = pd.DataFrame(scaler.fit_transform(X1) ,columns = X.columns)\n",
    "\n",
    "X = X2.iloc[:len(train), :]\n",
    "test = X2.iloc[len(train):, :]"
   ]
  },
  {
   "cell_type": "markdown",
   "id": "0925eeea-ca1a-4e21-b4e4-0eae38a136de",
   "metadata": {},
   "source": [
    "# Define MLP model"
   ]
  },
  {
   "cell_type": "code",
   "execution_count": 8,
   "id": "cdc9b109-47e3-4cfb-83ab-77cda2273980",
   "metadata": {},
   "outputs": [
    {
     "name": "stdout",
     "output_type": "stream",
     "text": [
      "Trial 10 Complete [00h 00m 02s]\n",
      "val_auc: 0.7837209105491638\n",
      "\n",
      "Best val_auc So Far: 0.7915697693824768\n",
      "Total elapsed time: 00h 00m 18s\n",
      "INFO:tensorflow:Oracle triggered exit\n"
     ]
    }
   ],
   "source": [
    "def build_model(hp):\n",
    "    model = Sequential()\n",
    "    \n",
    "    model.add(Dense(units=hp.Int('units_input', min_value=32, max_value=512, step=32), activation='relu', input_dim=X_train.shape[1]))\n",
    "\n",
    "    for i in range(hp.Int('num_hidden_layers', min_value=0, max_value=3)):\n",
    "        model.add(Dense(units=hp.Int(f'units_{i}', min_value=32, max_value=512, step=32), activation=hp.Choice(f'activation_{i}', values=['relu', 'sigmoid', 'tanh'])))\n",
    "\n",
    "    model.add(Dense(1, activation='sigmoid'))\n",
    "    \n",
    "    model.compile(optimizer='adam',\n",
    "                  loss='binary_crossentropy',\n",
    "                  metrics=['AUC'])\n",
    "    return model\n",
    "\n",
    "X_train, X_test, y_train, y_test = train_test_split(X, y, test_size=.2, random_state=0)\n",
    "\n",
    "# Initialize the RandomSearch tuner\n",
    "tuner = RandomSearch(\n",
    "    build_model,\n",
    "    objective=Objective(\"val_auc\", direction=\"max\"),\n",
    "    max_trials=10\n",
    ")\n",
    "\n",
    "# Search for the best model\n",
    "tuner.search(X_train, y_train,\n",
    "             epochs=20,\n",
    "             batch_size=32,\n",
    "             validation_data=(X_test, y_test))\n",
    "\n",
    "# Get the best model architecture and hyperparameters\n",
    "best_model = tuner.get_best_models(1)[0]\n",
    "best_hyperparams = tuner.get_best_hyperparameters(1)[0]"
   ]
  },
  {
   "cell_type": "code",
   "execution_count": 9,
   "id": "7cebd7a5-6968-4555-a02b-4cfd53069bdb",
   "metadata": {},
   "outputs": [
    {
     "name": "stdout",
     "output_type": "stream",
     "text": [
      "Best Hyperparameters:\n",
      "input units = 224\n",
      "number of hidden layers = 0\n",
      "activation = []\n",
      "units = []\n"
     ]
    }
   ],
   "source": [
    "# Access the best hyperparameters\n",
    "best_input_units = best_hyperparams.get('units_input')\n",
    "best_hidden_layers = best_hyperparams.get('num_hidden_layers')\n",
    "\n",
    "best_activation = []\n",
    "best_units = []\n",
    "\n",
    "# Extract the values of activation functions and units for each hidden layer\n",
    "for i in range(best_hidden_layers):\n",
    "    best_activation.append(best_hyperparams.get(f'activation_{i}'))\n",
    "    best_units.append(best_hyperparams.get(f'units_{i}'))\n",
    "\n",
    "\n",
    "# Print the best hyperparameters\n",
    "print(\"Best Hyperparameters:\")\n",
    "print(\"input units =\", best_input_units)\n",
    "print(\"number of hidden layers =\", best_hidden_layers)\n",
    "print(\"activation =\", best_activation)\n",
    "print(\"units =\", best_units)"
   ]
  },
  {
   "cell_type": "code",
   "execution_count": 10,
   "id": "22ee2ffd-3ac7-45d6-af8d-b1ea5206ef1b",
   "metadata": {},
   "outputs": [
    {
     "name": "stdout",
     "output_type": "stream",
     "text": [
      "Epoch 1/20\n",
      "13/13 [==============================] - 0s 1ms/step - loss: 0.6605 - auc: 0.6760\n",
      "Epoch 2/20\n",
      "13/13 [==============================] - 0s 1ms/step - loss: 0.6086 - auc: 0.7378\n",
      "Epoch 3/20\n",
      "13/13 [==============================] - 0s 1ms/step - loss: 0.5876 - auc: 0.7627\n",
      "Epoch 4/20\n",
      "13/13 [==============================] - 0s 1ms/step - loss: 0.5744 - auc: 0.7771\n",
      "Epoch 5/20\n",
      "13/13 [==============================] - 0s 1ms/step - loss: 0.5644 - auc: 0.7893\n",
      "Epoch 6/20\n",
      "13/13 [==============================] - 0s 1ms/step - loss: 0.5579 - auc: 0.7976\n",
      "Epoch 7/20\n",
      "13/13 [==============================] - 0s 1ms/step - loss: 0.5514 - auc: 0.8058\n",
      "Epoch 8/20\n",
      "13/13 [==============================] - 0s 1ms/step - loss: 0.5479 - auc: 0.8082\n",
      "Epoch 9/20\n",
      "13/13 [==============================] - 0s 1ms/step - loss: 0.5447 - auc: 0.8095\n",
      "Epoch 10/20\n",
      "13/13 [==============================] - 0s 1ms/step - loss: 0.5433 - auc: 0.8120\n",
      "Epoch 11/20\n",
      "13/13 [==============================] - 0s 1ms/step - loss: 0.5403 - auc: 0.8135\n",
      "Epoch 12/20\n",
      "13/13 [==============================] - 0s 1ms/step - loss: 0.5389 - auc: 0.8140\n",
      "Epoch 13/20\n",
      "13/13 [==============================] - 0s 1ms/step - loss: 0.5362 - auc: 0.8161\n",
      "Epoch 14/20\n",
      "13/13 [==============================] - 0s 1ms/step - loss: 0.5354 - auc: 0.8169\n",
      "Epoch 15/20\n",
      "13/13 [==============================] - 0s 1ms/step - loss: 0.5335 - auc: 0.8177\n",
      "Epoch 16/20\n",
      "13/13 [==============================] - 0s 1ms/step - loss: 0.5324 - auc: 0.8182\n",
      "Epoch 17/20\n",
      "13/13 [==============================] - 0s 1ms/step - loss: 0.5305 - auc: 0.8187\n",
      "Epoch 18/20\n",
      "13/13 [==============================] - 0s 1ms/step - loss: 0.5300 - auc: 0.8180\n",
      "Epoch 19/20\n",
      "13/13 [==============================] - 0s 1ms/step - loss: 0.5287 - auc: 0.8199\n",
      "Epoch 20/20\n",
      "13/13 [==============================] - 0s 1ms/step - loss: 0.5269 - auc: 0.8218\n"
     ]
    },
    {
     "data": {
      "text/plain": [
       "<keras.callbacks.History at 0x276b10bb988>"
      ]
     },
     "execution_count": 10,
     "metadata": {},
     "output_type": "execute_result"
    }
   ],
   "source": [
    "model = Sequential()\n",
    "model.add(Dense(units=224, activation='relu', input_dim=X.shape[1]))\n",
    "model.add(Dense(units=1, activation='sigmoid'))\n",
    "model.compile(optimizer='adam', loss='binary_crossentropy', metrics=['AUC'])\n",
    "\n",
    "model.fit(X, y, epochs=20, batch_size=32)"
   ]
  },
  {
   "cell_type": "markdown",
   "id": "e7bbbbfa-75d5-461c-a99d-d572350233ab",
   "metadata": {},
   "source": [
    "# Training"
   ]
  },
  {
   "cell_type": "markdown",
   "id": "8184e9a3-24dc-4b73-b5b0-d6ed5b47c120",
   "metadata": {},
   "source": [
    "# Final Model"
   ]
  },
  {
   "cell_type": "markdown",
   "id": "5c9be563-ef32-4b98-a0dc-0ffe599d6b07",
   "metadata": {},
   "source": [
    "# Prediction"
   ]
  },
  {
   "cell_type": "code",
   "execution_count": 11,
   "id": "74c6f920-78a7-4c18-954e-fbc2ae1b8f8a",
   "metadata": {
    "tags": []
   },
   "outputs": [
    {
     "name": "stdout",
     "output_type": "stream",
     "text": [
      "9/9 [==============================] - 0s 866us/step\n"
     ]
    }
   ],
   "source": [
    "final_predictions = model.predict(test)"
   ]
  },
  {
   "cell_type": "code",
   "execution_count": 12,
   "id": "a9089cca-e857-43bd-a854-6af88d5f7ecc",
   "metadata": {},
   "outputs": [],
   "source": [
    "final_predictions = [pred[0] for pred in final_predictions]"
   ]
  },
  {
   "cell_type": "code",
   "execution_count": 13,
   "id": "be116196-bd31-4a4c-8256-46d477dbce54",
   "metadata": {},
   "outputs": [
    {
     "data": {
      "text/html": [
       "<div>\n",
       "<style scoped>\n",
       "    .dataframe tbody tr th:only-of-type {\n",
       "        vertical-align: middle;\n",
       "    }\n",
       "\n",
       "    .dataframe tbody tr th {\n",
       "        vertical-align: top;\n",
       "    }\n",
       "\n",
       "    .dataframe thead th {\n",
       "        text-align: right;\n",
       "    }\n",
       "</style>\n",
       "<table border=\"1\" class=\"dataframe\">\n",
       "  <thead>\n",
       "    <tr style=\"text-align: right;\">\n",
       "      <th></th>\n",
       "      <th>id</th>\n",
       "      <th>target</th>\n",
       "    </tr>\n",
       "  </thead>\n",
       "  <tbody>\n",
       "    <tr>\n",
       "      <th>0</th>\n",
       "      <td>414</td>\n",
       "      <td>0.208395</td>\n",
       "    </tr>\n",
       "    <tr>\n",
       "      <th>1</th>\n",
       "      <td>415</td>\n",
       "      <td>0.397568</td>\n",
       "    </tr>\n",
       "    <tr>\n",
       "      <th>2</th>\n",
       "      <td>416</td>\n",
       "      <td>0.941999</td>\n",
       "    </tr>\n",
       "    <tr>\n",
       "      <th>3</th>\n",
       "      <td>417</td>\n",
       "      <td>0.455105</td>\n",
       "    </tr>\n",
       "    <tr>\n",
       "      <th>4</th>\n",
       "      <td>418</td>\n",
       "      <td>0.365173</td>\n",
       "    </tr>\n",
       "    <tr>\n",
       "      <th>...</th>\n",
       "      <td>...</td>\n",
       "      <td>...</td>\n",
       "    </tr>\n",
       "    <tr>\n",
       "      <th>271</th>\n",
       "      <td>685</td>\n",
       "      <td>0.732250</td>\n",
       "    </tr>\n",
       "    <tr>\n",
       "      <th>272</th>\n",
       "      <td>686</td>\n",
       "      <td>0.172086</td>\n",
       "    </tr>\n",
       "    <tr>\n",
       "      <th>273</th>\n",
       "      <td>687</td>\n",
       "      <td>0.430951</td>\n",
       "    </tr>\n",
       "    <tr>\n",
       "      <th>274</th>\n",
       "      <td>688</td>\n",
       "      <td>0.260388</td>\n",
       "    </tr>\n",
       "    <tr>\n",
       "      <th>275</th>\n",
       "      <td>689</td>\n",
       "      <td>0.401146</td>\n",
       "    </tr>\n",
       "  </tbody>\n",
       "</table>\n",
       "<p>276 rows × 2 columns</p>\n",
       "</div>"
      ],
      "text/plain": [
       "      id    target\n",
       "0    414  0.208395\n",
       "1    415  0.397568\n",
       "2    416  0.941999\n",
       "3    417  0.455105\n",
       "4    418  0.365173\n",
       "..   ...       ...\n",
       "271  685  0.732250\n",
       "272  686  0.172086\n",
       "273  687  0.430951\n",
       "274  688  0.260388\n",
       "275  689  0.401146\n",
       "\n",
       "[276 rows x 2 columns]"
      ]
     },
     "execution_count": 13,
     "metadata": {},
     "output_type": "execute_result"
    }
   ],
   "source": [
    "submission = pd.concat([pd.Series(test.index, name='id'), pd.Series(final_predictions, name='target')], axis=1)\n",
    "submission"
   ]
  },
  {
   "cell_type": "markdown",
   "id": "b212de09-556c-4a83-9133-33680d14b91c",
   "metadata": {},
   "source": [
    "# Submission"
   ]
  },
  {
   "cell_type": "code",
   "execution_count": 14,
   "id": "a8398413-14aa-4dfa-976a-0643d5777a09",
   "metadata": {},
   "outputs": [],
   "source": [
    "submission.to_csv('submission_MLP_model.csv', index=False)"
   ]
  },
  {
   "cell_type": "code",
   "execution_count": null,
   "id": "1caa4ae9-5343-4da3-b94b-36c5429f7b42",
   "metadata": {},
   "outputs": [],
   "source": []
  }
 ],
 "metadata": {
  "kernelspec": {
   "display_name": "Python 3 (ipykernel)",
   "language": "python",
   "name": "python3"
  },
  "language_info": {
   "codemirror_mode": {
    "name": "ipython",
    "version": 3
   },
   "file_extension": ".py",
   "mimetype": "text/x-python",
   "name": "python",
   "nbconvert_exporter": "python",
   "pygments_lexer": "ipython3",
   "version": "3.7.15"
  }
 },
 "nbformat": 4,
 "nbformat_minor": 5
}
